{
 "cells": [
  {
   "cell_type": "code",
   "execution_count": 4,
   "id": "9c48b011",
   "metadata": {},
   "outputs": [],
   "source": [
    "import pandas as pd\n",
    "import numpy as np\n",
    "import matplotlib.pyplot as plt\n",
    "import seaborn as sns\n",
    "import nltk\n",
    "import warnings\n",
    "warnings.filterwarnings('ignore')"
   ]
  },
  {
   "cell_type": "markdown",
   "id": "ad04b215",
   "metadata": {},
   "source": [
    "## Loading the data"
   ]
  },
  {
   "cell_type": "code",
   "execution_count": 5,
   "id": "24fbdf95",
   "metadata": {},
   "outputs": [
    {
     "data": {
      "text/html": [
       "<div>\n",
       "<style scoped>\n",
       "    .dataframe tbody tr th:only-of-type {\n",
       "        vertical-align: middle;\n",
       "    }\n",
       "\n",
       "    .dataframe tbody tr th {\n",
       "        vertical-align: top;\n",
       "    }\n",
       "\n",
       "    .dataframe thead th {\n",
       "        text-align: right;\n",
       "    }\n",
       "</style>\n",
       "<table border=\"1\" class=\"dataframe\">\n",
       "  <thead>\n",
       "    <tr style=\"text-align: right;\">\n",
       "      <th></th>\n",
       "      <th>Sentence</th>\n",
       "      <th>Sentiment</th>\n",
       "    </tr>\n",
       "  </thead>\n",
       "  <tbody>\n",
       "    <tr>\n",
       "      <th>495</th>\n",
       "      <td>ইমান অপমান পায়ো লাজ পোৱা নাই</td>\n",
       "      <td>0</td>\n",
       "    </tr>\n",
       "    <tr>\n",
       "      <th>251</th>\n",
       "      <td>বহুত ধুনীয়া হৈছে মোজা মোজা</td>\n",
       "      <td>1</td>\n",
       "    </tr>\n",
       "    <tr>\n",
       "      <th>922</th>\n",
       "      <td>কিমানবাৰ শুনিলো যদিও হেঁপাহ পেলোৱা নাই</td>\n",
       "      <td>1</td>\n",
       "    </tr>\n",
       "    <tr>\n",
       "      <th>188</th>\n",
       "      <td>খুব বেয়া</td>\n",
       "      <td>0</td>\n",
       "    </tr>\n",
       "    <tr>\n",
       "      <th>285</th>\n",
       "      <td>মা কছম মজা ।</td>\n",
       "      <td>1</td>\n",
       "    </tr>\n",
       "    <tr>\n",
       "      <th>434</th>\n",
       "      <td>নাজানিছিলো যে অসমী গানবোৰ এইটো ভাল আছিল</td>\n",
       "      <td>1</td>\n",
       "    </tr>\n",
       "    <tr>\n",
       "      <th>843</th>\n",
       "      <td>এইবোৰে আমাৰ উঠি অহা প্ৰজন্মক বিপথে পৰিচালিত কৰিছে</td>\n",
       "      <td>0</td>\n",
       "    </tr>\n",
       "    <tr>\n",
       "      <th>274</th>\n",
       "      <td>মই তোমাৰ গান শুনাতকৈ কাউৰীৰ মাত টো পছন্দ কৰিম</td>\n",
       "      <td>0</td>\n",
       "    </tr>\n",
       "    <tr>\n",
       "      <th>66</th>\n",
       "      <td>মোককেল কেলা ঠাকুৰীয়া</td>\n",
       "      <td>0</td>\n",
       "    </tr>\n",
       "    <tr>\n",
       "      <th>1015</th>\n",
       "      <td>এই গীততোৰ সৈতে বহুত স্মৃতি জড়িত হৈ আছে</td>\n",
       "      <td>1</td>\n",
       "    </tr>\n",
       "  </tbody>\n",
       "</table>\n",
       "</div>"
      ],
      "text/plain": [
       "                                               Sentence  Sentiment\n",
       "495                        ইমান অপমান পায়ো লাজ পোৱা নাই          0\n",
       "251                         বহুত ধুনীয়া হৈছে মোজা মোজা          1\n",
       "922              কিমানবাৰ শুনিলো যদিও হেঁপাহ পেলোৱা নাই          1\n",
       "188                                            খুব বেয়া          0\n",
       "285                                        মা কছম মজা ।          1\n",
       "434             নাজানিছিলো যে অসমী গানবোৰ এইটো ভাল আছিল          1\n",
       "843   এইবোৰে আমাৰ উঠি অহা প্ৰজন্মক বিপথে পৰিচালিত কৰিছে          0\n",
       "274       মই তোমাৰ গান শুনাতকৈ কাউৰীৰ মাত টো পছন্দ কৰিম          0\n",
       "66                                মোককেল কেলা ঠাকুৰীয়া          0\n",
       "1015             এই গীততোৰ সৈতে বহুত স্মৃতি জড়িত হৈ আছে          1"
      ]
     },
     "execution_count": 5,
     "metadata": {},
     "output_type": "execute_result"
    }
   ],
   "source": [
    "df=pd.read_csv('reviews.csv',encoding='utf-8')\n",
    "df.sample(10)"
   ]
  },
  {
   "cell_type": "code",
   "execution_count": 6,
   "id": "3b125af9",
   "metadata": {},
   "outputs": [
    {
     "data": {
      "text/plain": [
       "(1028, 2)"
      ]
     },
     "execution_count": 6,
     "metadata": {},
     "output_type": "execute_result"
    }
   ],
   "source": [
    "df.shape"
   ]
  },
  {
   "cell_type": "code",
   "execution_count": 7,
   "id": "e5067272",
   "metadata": {},
   "outputs": [
    {
     "name": "stdout",
     "output_type": "stream",
     "text": [
      "<class 'pandas.core.frame.DataFrame'>\n",
      "RangeIndex: 1028 entries, 0 to 1027\n",
      "Data columns (total 2 columns):\n",
      " #   Column     Non-Null Count  Dtype \n",
      "---  ------     --------------  ----- \n",
      " 0   Sentence   1028 non-null   object\n",
      " 1   Sentiment  1028 non-null   int64 \n",
      "dtypes: int64(1), object(1)\n",
      "memory usage: 16.2+ KB\n"
     ]
    }
   ],
   "source": [
    "df.info()"
   ]
  },
  {
   "cell_type": "code",
   "execution_count": 8,
   "id": "38d59cc8",
   "metadata": {},
   "outputs": [
    {
     "data": {
      "text/plain": [
       "Sentence     0\n",
       "Sentiment    0\n",
       "dtype: int64"
      ]
     },
     "execution_count": 8,
     "metadata": {},
     "output_type": "execute_result"
    }
   ],
   "source": [
    "#checking missing values\n",
    "df.isnull().sum()"
   ]
  },
  {
   "cell_type": "markdown",
   "id": "b95a616a",
   "metadata": {},
   "source": [
    "## Removing duplicate values"
   ]
  },
  {
   "cell_type": "code",
   "execution_count": 9,
   "id": "15dfc096",
   "metadata": {},
   "outputs": [
    {
     "data": {
      "text/plain": [
       "11"
      ]
     },
     "execution_count": 9,
     "metadata": {},
     "output_type": "execute_result"
    }
   ],
   "source": [
    "#check for duplicate values\n",
    "df.duplicated().sum()"
   ]
  },
  {
   "cell_type": "code",
   "execution_count": 10,
   "id": "7ec37496",
   "metadata": {},
   "outputs": [
    {
     "data": {
      "text/plain": [
       "(1016, 2)"
      ]
     },
     "execution_count": 10,
     "metadata": {},
     "output_type": "execute_result"
    }
   ],
   "source": [
    "#removing duplicates\n",
    "df.drop_duplicates(subset =\"Sentence\",\n",
    "                     keep ='first', inplace = True)\n",
    "df.shape"
   ]
  },
  {
   "cell_type": "markdown",
   "id": "0aa5bf31",
   "metadata": {},
   "source": [
    "# EDA"
   ]
  },
  {
   "cell_type": "markdown",
   "id": "ebdbe82b",
   "metadata": {},
   "source": [
    "## Distribution of positive and negative sentences"
   ]
  },
  {
   "cell_type": "code",
   "execution_count": 11,
   "id": "be493aa2",
   "metadata": {},
   "outputs": [
    {
     "data": {
      "text/plain": [
       "0    519\n",
       "1    497\n",
       "Name: Sentiment, dtype: int64"
      ]
     },
     "execution_count": 11,
     "metadata": {},
     "output_type": "execute_result"
    }
   ],
   "source": [
    "df['Sentiment'].value_counts()"
   ]
  },
  {
   "cell_type": "code",
   "execution_count": 12,
   "id": "49621ffa",
   "metadata": {},
   "outputs": [
    {
     "data": {
      "image/png": "[encoded data removed]",
      "text/plain": [
       "<Figure size 432x288 with 1 Axes>"
      ]
     },
     "metadata": {},
     "output_type": "display_data"
    }
   ],
   "source": [
    "plt.pie(df['Sentiment'].value_counts(),labels=['Negative','Positive'],colors=['red','lime'],autopct=\"%0.2f\")\n",
    "plt.show()"
   ]
  },
  {
   "cell_type": "markdown",
   "id": "60fd6b84",
   "metadata": {},
   "source": [
    "## Number of characters in each sentence"
   ]
  },
  {
   "cell_type": "code",
   "execution_count": 13,
   "id": "f160ccef",
   "metadata": {},
   "outputs": [],
   "source": [
    "df['num_char']=df['Sentence'].apply(len)"
   ]
  },
  {
   "cell_type": "code",
   "execution_count": 14,
   "id": "1afb644c",
   "metadata": {},
   "outputs": [
    {
     "data": {
      "text/html": [
       "<div>\n",
       "<style scoped>\n",
       "    .dataframe tbody tr th:only-of-type {\n",
       "        vertical-align: middle;\n",
       "    }\n",
       "\n",
       "    .dataframe tbody tr th {\n",
       "        vertical-align: top;\n",
       "    }\n",
       "\n",
       "    .dataframe thead th {\n",
       "        text-align: right;\n",
       "    }\n",
       "</style>\n",
       "<table border=\"1\" class=\"dataframe\">\n",
       "  <thead>\n",
       "    <tr style=\"text-align: right;\">\n",
       "      <th></th>\n",
       "      <th>Sentence</th>\n",
       "      <th>Sentiment</th>\n",
       "      <th>num_char</th>\n",
       "    </tr>\n",
       "  </thead>\n",
       "  <tbody>\n",
       "    <tr>\n",
       "      <th>0</th>\n",
       "      <td>এই গানটো কোনে লিখিছিল নো?</td>\n",
       "      <td>1</td>\n",
       "      <td>25</td>\n",
       "    </tr>\n",
       "    <tr>\n",
       "      <th>1</th>\n",
       "      <td>মাকচুদু</td>\n",
       "      <td>0</td>\n",
       "      <td>7</td>\n",
       "    </tr>\n",
       "    <tr>\n",
       "      <th>2</th>\n",
       "      <td>বৰ্তমান সময়ত এনেকুৱা মধুৰ গীত শুনিবলৈ পোৱা বহু...</td>\n",
       "      <td>1</td>\n",
       "      <td>53</td>\n",
       "    </tr>\n",
       "    <tr>\n",
       "      <th>3</th>\n",
       "      <td>কি গান গাবলৈ আহি ছ</td>\n",
       "      <td>0</td>\n",
       "      <td>19</td>\n",
       "    </tr>\n",
       "    <tr>\n",
       "      <th>4</th>\n",
       "      <td>গানটো গাবলৈ লাজ নাই</td>\n",
       "      <td>0</td>\n",
       "      <td>19</td>\n",
       "    </tr>\n",
       "  </tbody>\n",
       "</table>\n",
       "</div>"
      ],
      "text/plain": [
       "                                            Sentence  Sentiment  num_char\n",
       "0                          এই গানটো কোনে লিখিছিল নো?          1        25\n",
       "1                                            মাকচুদু          0         7\n",
       "2  বৰ্তমান সময়ত এনেকুৱা মধুৰ গীত শুনিবলৈ পোৱা বহু...          1        53\n",
       "3                                 কি গান গাবলৈ আহি ছ          0        19\n",
       "4                                গানটো গাবলৈ লাজ নাই          0        19"
      ]
     },
     "execution_count": 14,
     "metadata": {},
     "output_type": "execute_result"
    }
   ],
   "source": [
    "df.head()"
   ]
  },
  {
   "cell_type": "markdown",
   "id": "5c99b90a",
   "metadata": {},
   "source": [
    "## Number of words in each sentence"
   ]
  },
  {
   "cell_type": "code",
   "execution_count": 15,
   "id": "337743c5",
   "metadata": {},
   "outputs": [],
   "source": [
    "df['num_words']=df['Sentence'].apply(lambda x:len(nltk.word_tokenize(x)))"
   ]
  },
  {
   "cell_type": "code",
   "execution_count": 16,
   "id": "964ccd23",
   "metadata": {},
   "outputs": [
    {
     "data": {
      "text/html": [
       "<div>\n",
       "<style scoped>\n",
       "    .dataframe tbody tr th:only-of-type {\n",
       "        vertical-align: middle;\n",
       "    }\n",
       "\n",
       "    .dataframe tbody tr th {\n",
       "        vertical-align: top;\n",
       "    }\n",
       "\n",
       "    .dataframe thead th {\n",
       "        text-align: right;\n",
       "    }\n",
       "</style>\n",
       "<table border=\"1\" class=\"dataframe\">\n",
       "  <thead>\n",
       "    <tr style=\"text-align: right;\">\n",
       "      <th></th>\n",
       "      <th>Sentence</th>\n",
       "      <th>Sentiment</th>\n",
       "      <th>num_char</th>\n",
       "      <th>num_words</th>\n",
       "    </tr>\n",
       "  </thead>\n",
       "  <tbody>\n",
       "    <tr>\n",
       "      <th>0</th>\n",
       "      <td>এই গানটো কোনে লিখিছিল নো?</td>\n",
       "      <td>1</td>\n",
       "      <td>25</td>\n",
       "      <td>6</td>\n",
       "    </tr>\n",
       "    <tr>\n",
       "      <th>1</th>\n",
       "      <td>মাকচুদু</td>\n",
       "      <td>0</td>\n",
       "      <td>7</td>\n",
       "      <td>1</td>\n",
       "    </tr>\n",
       "    <tr>\n",
       "      <th>2</th>\n",
       "      <td>বৰ্তমান সময়ত এনেকুৱা মধুৰ গীত শুনিবলৈ পোৱা বহু...</td>\n",
       "      <td>1</td>\n",
       "      <td>53</td>\n",
       "      <td>9</td>\n",
       "    </tr>\n",
       "    <tr>\n",
       "      <th>3</th>\n",
       "      <td>কি গান গাবলৈ আহি ছ</td>\n",
       "      <td>0</td>\n",
       "      <td>19</td>\n",
       "      <td>5</td>\n",
       "    </tr>\n",
       "    <tr>\n",
       "      <th>4</th>\n",
       "      <td>গানটো গাবলৈ লাজ নাই</td>\n",
       "      <td>0</td>\n",
       "      <td>19</td>\n",
       "      <td>4</td>\n",
       "    </tr>\n",
       "  </tbody>\n",
       "</table>\n",
       "</div>"
      ],
      "text/plain": [
       "                                            Sentence  Sentiment  num_char  \\\n",
       "0                          এই গানটো কোনে লিখিছিল নো?          1        25   \n",
       "1                                            মাকচুদু          0         7   \n",
       "2  বৰ্তমান সময়ত এনেকুৱা মধুৰ গীত শুনিবলৈ পোৱা বহু...          1        53   \n",
       "3                                 কি গান গাবলৈ আহি ছ          0        19   \n",
       "4                                গানটো গাবলৈ লাজ নাই          0        19   \n",
       "\n",
       "   num_words  \n",
       "0          6  \n",
       "1          1  \n",
       "2          9  \n",
       "3          5  \n",
       "4          4  "
      ]
     },
     "execution_count": 16,
     "metadata": {},
     "output_type": "execute_result"
    }
   ],
   "source": [
    "df.head()"
   ]
  },
  {
   "cell_type": "code",
   "execution_count": 17,
   "id": "59805b35",
   "metadata": {},
   "outputs": [
    {
     "data": {
      "text/html": [
       "<div>\n",
       "<style scoped>\n",
       "    .dataframe tbody tr th:only-of-type {\n",
       "        vertical-align: middle;\n",
       "    }\n",
       "\n",
       "    .dataframe tbody tr th {\n",
       "        vertical-align: top;\n",
       "    }\n",
       "\n",
       "    .dataframe thead th {\n",
       "        text-align: right;\n",
       "    }\n",
       "</style>\n",
       "<table border=\"1\" class=\"dataframe\">\n",
       "  <thead>\n",
       "    <tr style=\"text-align: right;\">\n",
       "      <th></th>\n",
       "      <th>num_char</th>\n",
       "      <th>num_words</th>\n",
       "    </tr>\n",
       "  </thead>\n",
       "  <tbody>\n",
       "    <tr>\n",
       "      <th>count</th>\n",
       "      <td>1016.000000</td>\n",
       "      <td>1016.000000</td>\n",
       "    </tr>\n",
       "    <tr>\n",
       "      <th>mean</th>\n",
       "      <td>32.819882</td>\n",
       "      <td>6.348425</td>\n",
       "    </tr>\n",
       "    <tr>\n",
       "      <th>std</th>\n",
       "      <td>22.159343</td>\n",
       "      <td>4.245503</td>\n",
       "    </tr>\n",
       "    <tr>\n",
       "      <th>min</th>\n",
       "      <td>3.000000</td>\n",
       "      <td>1.000000</td>\n",
       "    </tr>\n",
       "    <tr>\n",
       "      <th>25%</th>\n",
       "      <td>17.000000</td>\n",
       "      <td>3.000000</td>\n",
       "    </tr>\n",
       "    <tr>\n",
       "      <th>50%</th>\n",
       "      <td>28.000000</td>\n",
       "      <td>5.000000</td>\n",
       "    </tr>\n",
       "    <tr>\n",
       "      <th>75%</th>\n",
       "      <td>43.000000</td>\n",
       "      <td>8.000000</td>\n",
       "    </tr>\n",
       "    <tr>\n",
       "      <th>max</th>\n",
       "      <td>168.000000</td>\n",
       "      <td>34.000000</td>\n",
       "    </tr>\n",
       "  </tbody>\n",
       "</table>\n",
       "</div>"
      ],
      "text/plain": [
       "          num_char    num_words\n",
       "count  1016.000000  1016.000000\n",
       "mean     32.819882     6.348425\n",
       "std      22.159343     4.245503\n",
       "min       3.000000     1.000000\n",
       "25%      17.000000     3.000000\n",
       "50%      28.000000     5.000000\n",
       "75%      43.000000     8.000000\n",
       "max     168.000000    34.000000"
      ]
     },
     "execution_count": 17,
     "metadata": {},
     "output_type": "execute_result"
    }
   ],
   "source": [
    "df[['num_char','num_words']].describe()"
   ]
  },
  {
   "cell_type": "code",
   "execution_count": 18,
   "id": "dfe126b1",
   "metadata": {},
   "outputs": [
    {
     "data": {
      "text/html": [
       "<div>\n",
       "<style scoped>\n",
       "    .dataframe tbody tr th:only-of-type {\n",
       "        vertical-align: middle;\n",
       "    }\n",
       "\n",
       "    .dataframe tbody tr th {\n",
       "        vertical-align: top;\n",
       "    }\n",
       "\n",
       "    .dataframe thead th {\n",
       "        text-align: right;\n",
       "    }\n",
       "</style>\n",
       "<table border=\"1\" class=\"dataframe\">\n",
       "  <thead>\n",
       "    <tr style=\"text-align: right;\">\n",
       "      <th></th>\n",
       "      <th>num_char</th>\n",
       "      <th>num_words</th>\n",
       "    </tr>\n",
       "  </thead>\n",
       "  <tbody>\n",
       "    <tr>\n",
       "      <th>count</th>\n",
       "      <td>497.000000</td>\n",
       "      <td>497.000000</td>\n",
       "    </tr>\n",
       "    <tr>\n",
       "      <th>mean</th>\n",
       "      <td>36.597586</td>\n",
       "      <td>7.024145</td>\n",
       "    </tr>\n",
       "    <tr>\n",
       "      <th>std</th>\n",
       "      <td>24.077308</td>\n",
       "      <td>4.611895</td>\n",
       "    </tr>\n",
       "    <tr>\n",
       "      <th>min</th>\n",
       "      <td>3.000000</td>\n",
       "      <td>1.000000</td>\n",
       "    </tr>\n",
       "    <tr>\n",
       "      <th>25%</th>\n",
       "      <td>19.000000</td>\n",
       "      <td>4.000000</td>\n",
       "    </tr>\n",
       "    <tr>\n",
       "      <th>50%</th>\n",
       "      <td>31.000000</td>\n",
       "      <td>6.000000</td>\n",
       "    </tr>\n",
       "    <tr>\n",
       "      <th>75%</th>\n",
       "      <td>47.000000</td>\n",
       "      <td>9.000000</td>\n",
       "    </tr>\n",
       "    <tr>\n",
       "      <th>max</th>\n",
       "      <td>168.000000</td>\n",
       "      <td>34.000000</td>\n",
       "    </tr>\n",
       "  </tbody>\n",
       "</table>\n",
       "</div>"
      ],
      "text/plain": [
       "         num_char   num_words\n",
       "count  497.000000  497.000000\n",
       "mean    36.597586    7.024145\n",
       "std     24.077308    4.611895\n",
       "min      3.000000    1.000000\n",
       "25%     19.000000    4.000000\n",
       "50%     31.000000    6.000000\n",
       "75%     47.000000    9.000000\n",
       "max    168.000000   34.000000"
      ]
     },
     "execution_count": 18,
     "metadata": {},
     "output_type": "execute_result"
    }
   ],
   "source": [
    "#positive sentiment\n",
    "df[df['Sentiment']==1][['num_char','num_words']].describe()"
   ]
  },
  {
   "cell_type": "code",
   "execution_count": 19,
   "id": "ee0989f5",
   "metadata": {},
   "outputs": [
    {
     "data": {
      "text/html": [
       "<div>\n",
       "<style scoped>\n",
       "    .dataframe tbody tr th:only-of-type {\n",
       "        vertical-align: middle;\n",
       "    }\n",
       "\n",
       "    .dataframe tbody tr th {\n",
       "        vertical-align: top;\n",
       "    }\n",
       "\n",
       "    .dataframe thead th {\n",
       "        text-align: right;\n",
       "    }\n",
       "</style>\n",
       "<table border=\"1\" class=\"dataframe\">\n",
       "  <thead>\n",
       "    <tr style=\"text-align: right;\">\n",
       "      <th></th>\n",
       "      <th>num_char</th>\n",
       "      <th>num_words</th>\n",
       "    </tr>\n",
       "  </thead>\n",
       "  <tbody>\n",
       "    <tr>\n",
       "      <th>count</th>\n",
       "      <td>519.000000</td>\n",
       "      <td>519.000000</td>\n",
       "    </tr>\n",
       "    <tr>\n",
       "      <th>mean</th>\n",
       "      <td>29.202312</td>\n",
       "      <td>5.701349</td>\n",
       "    </tr>\n",
       "    <tr>\n",
       "      <th>std</th>\n",
       "      <td>19.500409</td>\n",
       "      <td>3.754202</td>\n",
       "    </tr>\n",
       "    <tr>\n",
       "      <th>min</th>\n",
       "      <td>3.000000</td>\n",
       "      <td>1.000000</td>\n",
       "    </tr>\n",
       "    <tr>\n",
       "      <th>25%</th>\n",
       "      <td>15.000000</td>\n",
       "      <td>3.000000</td>\n",
       "    </tr>\n",
       "    <tr>\n",
       "      <th>50%</th>\n",
       "      <td>25.000000</td>\n",
       "      <td>5.000000</td>\n",
       "    </tr>\n",
       "    <tr>\n",
       "      <th>75%</th>\n",
       "      <td>38.000000</td>\n",
       "      <td>7.000000</td>\n",
       "    </tr>\n",
       "    <tr>\n",
       "      <th>max</th>\n",
       "      <td>143.000000</td>\n",
       "      <td>28.000000</td>\n",
       "    </tr>\n",
       "  </tbody>\n",
       "</table>\n",
       "</div>"
      ],
      "text/plain": [
       "         num_char   num_words\n",
       "count  519.000000  519.000000\n",
       "mean    29.202312    5.701349\n",
       "std     19.500409    3.754202\n",
       "min      3.000000    1.000000\n",
       "25%     15.000000    3.000000\n",
       "50%     25.000000    5.000000\n",
       "75%     38.000000    7.000000\n",
       "max    143.000000   28.000000"
      ]
     },
     "execution_count": 19,
     "metadata": {},
     "output_type": "execute_result"
    }
   ],
   "source": [
    "#negative sentiment\n",
    "df[df['Sentiment']==0][['num_char','num_words']].describe()"
   ]
  },
  {
   "cell_type": "markdown",
   "id": "3a4d7476",
   "metadata": {},
   "source": [
    "## Data cleaning"
   ]
  },
  {
   "cell_type": "code",
   "execution_count": 20,
   "id": "f4415b19",
   "metadata": {},
   "outputs": [],
   "source": [
    "def transform_text(text):\n",
    "    #tokenizing\n",
    "    text=nltk.word_tokenize(text)\n",
    "    stop=['অতএব', 'অথচ', 'অথবা', 'অধঃ', 'অন্ততঃ', 'অৰ্থাৎ', 'অৰ্থে', 'আও', 'আঃ', 'আচ্ছা', 'আপাততঃ', 'আয়ৈ', 'আৰু',\n",
    "      'আস্', 'আহা', 'আহাহা', 'ইতস্ততঃ', 'ইতি', 'ইত্যাদি', 'ইস্', 'ইহ', 'উঃ', 'উৱা', 'উস্', 'এতেকে', 'এথোন',\n",
    "      'ঐ', 'ওঁ', 'ওৰফে', 'ঔচ্', 'কি', 'কিম্বা', 'কিন্তু', 'কিয়নো', 'কেলেই', 'চোন', 'ছাৰি', 'ছিকৌ', 'ছেই',\n",
    "      'ঠাহ্', 'ঢেঁট্', 'তত', 'ততক', 'ততেক', 'তেতেক', 'ততেক', 'তত্ৰাচ', 'তথা', 'তথৈবচ', 'তাতে', 'তেও',\n",
    "      'তো', 'তৌৱা', 'দেই', 'দেহি', 'দ্বাৰা', 'ধৰি', 'ধিক্', 'নতুবা', 'নি', 'নো', 'নৌ', 'পৰা', 'পৰ্যন্ত',\n",
    "      'বৰঞ্চ', 'বহিঃ', 'বাবে', 'বাৰু', 'বাহ্', 'বাহিৰে', 'বিনে', 'বে', 'মতে', 'যথা', 'যদি', 'যদ্যপি', 'যে',\n",
    "      'যেনিবা', 'যেনে', 'যোগে', 'লৈ', 'সত্ত্বে', 'সমন্ধি', 'সম্প্ৰতি', 'সহ', 'সু', 'সেইদেখি', 'সৈতে', 'স্বতঃ', 'হঞে', 'হতুৱা', 'হন্তে',\n",
    "      'হবলা', 'হয়', 'হা', 'হুঁ', 'হুই', 'হে', 'হেই', 'হেঃ', 'হেতুকে', 'হেনে', 'হেনো', 'হেৰ', 'হেৰি', 'হৈ', 'হোঁ', 'ইঃ', 'ইচ্',\n",
    "      'চুহ্', 'চুঃ', 'আঁ']\n",
    "    punc=\"!\\\"#$%&'()*+,-./:;<=>?@[\\]^_`{|}~।\"\n",
    "    puncword=[]\n",
    "    #removing stopwords and punctuations\n",
    "    for i in punc:\n",
    "         puncword.append(i)\n",
    "    y=[]\n",
    "    for i in text:\n",
    "        if i not in stop and i not in punc:\n",
    "            y.append(i)\n",
    "    text=y[:]\n",
    "    y.clear()\n",
    "    for i in text:\n",
    "        i=''.join(j for j in i if not j in puncword)\n",
    "        y.append(i)\n",
    "    return \" \".join(y)"
   ]
  },
  {
   "cell_type": "code",
   "execution_count": 21,
   "id": "bbb3e8e0",
   "metadata": {},
   "outputs": [
    {
     "data": {
      "text/plain": [
       "'এই গানটোৱে আপোনাক অকলশৰীয়া থাকিব বিচাৰে আৰ '"
      ]
     },
     "execution_count": 21,
     "metadata": {},
     "output_type": "execute_result"
    }
   ],
   "source": [
    "transform_text('এই গানটোৱে আপোনাক অকলশৰীয়া হৈ থাকিব বিচাৰে আৰ...')"
   ]
  },
  {
   "cell_type": "code",
   "execution_count": 22,
   "id": "e3b94390",
   "metadata": {},
   "outputs": [],
   "source": [
    "df['cleaned_sentence']=df['Sentence'].apply(transform_text)"
   ]
  },
  {
   "cell_type": "code",
   "execution_count": 23,
   "id": "20452fd0",
   "metadata": {},
   "outputs": [
    {
     "data": {
      "text/html": [
       "<div>\n",
       "<style scoped>\n",
       "    .dataframe tbody tr th:only-of-type {\n",
       "        vertical-align: middle;\n",
       "    }\n",
       "\n",
       "    .dataframe tbody tr th {\n",
       "        vertical-align: top;\n",
       "    }\n",
       "\n",
       "    .dataframe thead th {\n",
       "        text-align: right;\n",
       "    }\n",
       "</style>\n",
       "<table border=\"1\" class=\"dataframe\">\n",
       "  <thead>\n",
       "    <tr style=\"text-align: right;\">\n",
       "      <th></th>\n",
       "      <th>Sentence</th>\n",
       "      <th>Sentiment</th>\n",
       "      <th>num_char</th>\n",
       "      <th>num_words</th>\n",
       "      <th>cleaned_sentence</th>\n",
       "    </tr>\n",
       "  </thead>\n",
       "  <tbody>\n",
       "    <tr>\n",
       "      <th>623</th>\n",
       "      <td>আপুনি বুঢ়া অনুগ্ৰহ কৰি সোনকালে মৰিব</td>\n",
       "      <td>0</td>\n",
       "      <td>36</td>\n",
       "      <td>6</td>\n",
       "      <td>আপুনি বুঢ়া অনুগ্ৰহ কৰি সোনকালে মৰিব</td>\n",
       "    </tr>\n",
       "    <tr>\n",
       "      <th>48</th>\n",
       "      <td>বৰ ভাল লাগিল আৰু আছে যদি দিব</td>\n",
       "      <td>1</td>\n",
       "      <td>28</td>\n",
       "      <td>7</td>\n",
       "      <td>বৰ ভাল লাগিল আছে দিব</td>\n",
       "    </tr>\n",
       "    <tr>\n",
       "      <th>548</th>\n",
       "      <td>এইটো ৰাস্তাৰ কাষত শৌচ কৰা হয়</td>\n",
       "      <td>0</td>\n",
       "      <td>29</td>\n",
       "      <td>6</td>\n",
       "      <td>এইটো ৰাস্তাৰ কাষত শৌচ কৰা হয়</td>\n",
       "    </tr>\n",
       "    <tr>\n",
       "      <th>238</th>\n",
       "      <td>মই ইয়াতে মৰিছিলো</td>\n",
       "      <td>0</td>\n",
       "      <td>17</td>\n",
       "      <td>3</td>\n",
       "      <td>মই ইয়াতে মৰিছিলো</td>\n",
       "    </tr>\n",
       "    <tr>\n",
       "      <th>657</th>\n",
       "      <td>আহাহা কি অপূৰ্ব, কি মোহনীয়</td>\n",
       "      <td>1</td>\n",
       "      <td>26</td>\n",
       "      <td>6</td>\n",
       "      <td>অপূৰ্ব মোহনীয়</td>\n",
       "    </tr>\n",
       "    <tr>\n",
       "      <th>221</th>\n",
       "      <td>মোৰ সকলো সময়তে ভাল লগা গান এইটো</td>\n",
       "      <td>1</td>\n",
       "      <td>31</td>\n",
       "      <td>7</td>\n",
       "      <td>মোৰ সকলো সময়তে ভাল লগা গান এইটো</td>\n",
       "    </tr>\n",
       "    <tr>\n",
       "      <th>535</th>\n",
       "      <td>তোমাৰ গান শুনিলে সকলো পাহৰি কোনোবা আলোক দিগন্ত...</td>\n",
       "      <td>1</td>\n",
       "      <td>62</td>\n",
       "      <td>12</td>\n",
       "      <td>তোমাৰ গান শুনিলে সকলো পাহৰি কোনোবা আলোক দিগন্ত...</td>\n",
       "    </tr>\n",
       "    <tr>\n",
       "      <th>41</th>\n",
       "      <td>কি ফটোৱা</td>\n",
       "      <td>0</td>\n",
       "      <td>8</td>\n",
       "      <td>2</td>\n",
       "      <td>ফটোৱা</td>\n",
       "    </tr>\n",
       "    <tr>\n",
       "      <th>998</th>\n",
       "      <td>এই গানটোৱে মোৰ আত্মাক নৃত্য কৰি তোলে</td>\n",
       "      <td>1</td>\n",
       "      <td>36</td>\n",
       "      <td>7</td>\n",
       "      <td>এই গানটোৱে মোৰ আত্মাক নৃত্য কৰি তোলে</td>\n",
       "    </tr>\n",
       "    <tr>\n",
       "      <th>297</th>\n",
       "      <td>আপুনি এতিয়াও কিয় মৰি যোৱা নাই?</td>\n",
       "      <td>0</td>\n",
       "      <td>32</td>\n",
       "      <td>7</td>\n",
       "      <td>আপুনি এতিয়াও কিয় মৰি যোৱা নাই</td>\n",
       "    </tr>\n",
       "  </tbody>\n",
       "</table>\n",
       "</div>"
      ],
      "text/plain": [
       "                                              Sentence  Sentiment  num_char  \\\n",
       "623               আপুনি বুঢ়া অনুগ্ৰহ কৰি সোনকালে মৰিব          0        36   \n",
       "48                        বৰ ভাল লাগিল আৰু আছে যদি দিব          1        28   \n",
       "548                      এইটো ৰাস্তাৰ কাষত শৌচ কৰা হয়          0        29   \n",
       "238                                  মই ইয়াতে মৰিছিলো          0        17   \n",
       "657                         আহাহা কি অপূৰ্ব, কি মোহনীয়          1        26   \n",
       "221                    মোৰ সকলো সময়তে ভাল লগা গান এইটো          1        31   \n",
       "535  তোমাৰ গান শুনিলে সকলো পাহৰি কোনোবা আলোক দিগন্ত...          1        62   \n",
       "41                                            কি ফটোৱা          0         8   \n",
       "998               এই গানটোৱে মোৰ আত্মাক নৃত্য কৰি তোলে          1        36   \n",
       "297                   আপুনি এতিয়াও কিয় মৰি যোৱা নাই?          0        32   \n",
       "\n",
       "     num_words                                   cleaned_sentence  \n",
       "623          6               আপুনি বুঢ়া অনুগ্ৰহ কৰি সোনকালে মৰিব  \n",
       "48           7                               বৰ ভাল লাগিল আছে দিব  \n",
       "548          6                      এইটো ৰাস্তাৰ কাষত শৌচ কৰা হয়  \n",
       "238          3                                  মই ইয়াতে মৰিছিলো  \n",
       "657          6                                      অপূৰ্ব মোহনীয়  \n",
       "221          7                    মোৰ সকলো সময়তে ভাল লগা গান এইটো  \n",
       "535         12  তোমাৰ গান শুনিলে সকলো পাহৰি কোনোবা আলোক দিগন্ত...  \n",
       "41           2                                              ফটোৱা  \n",
       "998          7               এই গানটোৱে মোৰ আত্মাক নৃত্য কৰি তোলে  \n",
       "297          7                    আপুনি এতিয়াও কিয় মৰি যোৱা নাই  "
      ]
     },
     "execution_count": 23,
     "metadata": {},
     "output_type": "execute_result"
    }
   ],
   "source": [
    "df.sample(10)"
   ]
  },
  {
   "cell_type": "code",
   "execution_count": 24,
   "id": "71ee0e36",
   "metadata": {},
   "outputs": [
    {
     "data": {
      "text/plain": [
       "(1016,)"
      ]
     },
     "execution_count": 24,
     "metadata": {},
     "output_type": "execute_result"
    }
   ],
   "source": [
    "df['cleaned_sentence'].shape"
   ]
  },
  {
   "cell_type": "markdown",
   "id": "b7774af1",
   "metadata": {},
   "source": [
    "## Most frequent words in positive and negative sentences"
   ]
  },
  {
   "cell_type": "code",
   "execution_count": 25,
   "id": "94d7c42d",
   "metadata": {},
   "outputs": [],
   "source": [
    "positive_corpus=[]\n",
    "for snt in df[df['Sentiment']==1]['cleaned_sentence'].tolist():\n",
    "    for word in snt.split():\n",
    "        positive_corpus.append(word)\n",
    "        "
   ]
  },
  {
   "cell_type": "code",
   "execution_count": 26,
   "id": "82430e49",
   "metadata": {},
   "outputs": [
    {
     "data": {
      "text/plain": [
       "3193"
      ]
     },
     "execution_count": 26,
     "metadata": {},
     "output_type": "execute_result"
    }
   ],
   "source": [
    "len(positive_corpus)"
   ]
  },
  {
   "cell_type": "code",
   "execution_count": 27,
   "id": "5658a8d0",
   "metadata": {},
   "outputs": [],
   "source": [
    "from collections import Counter"
   ]
  },
  {
   "cell_type": "code",
   "execution_count": 28,
   "id": "c6355338",
   "metadata": {},
   "outputs": [
    {
     "data": {
      "text/plain": [
       "[('এই', 77),\n",
       " ('ভাল', 74),\n",
       " ('গান', 73),\n",
       " ('গীত', 57),\n",
       " ('মই', 56),\n",
       " ('গানটো', 49),\n",
       " ('শুনি', 45),\n",
       " ('বহুত', 40),\n",
       " ('বিহু', 39),\n",
       " ('সুন্দৰ', 35),\n",
       " ('মোৰ', 31),\n",
       " ('ইমান', 28),\n",
       " ('এটা', 27),\n",
       " ('মন', 25),\n",
       " ('লাগিল', 22),\n",
       " ('নাই', 21),\n",
       " ('কৰি', 19),\n",
       " ('এনেকুৱা', 18),\n",
       " ('অসমীয়া', 18),\n",
       " ('এইটো', 18),\n",
       " ('পাওঁ', 18),\n",
       " ('লাগে', 17),\n",
       " ('এটি', 16),\n",
       " ('আপোনাৰ', 15),\n",
       " ('মজা', 14),\n",
       " ('এক', 14),\n",
       " ('অনুভৱ', 13),\n",
       " ('শুনিলে', 13),\n",
       " ('পুৰণি', 12),\n",
       " ('গানটোৰ', 12)]"
      ]
     },
     "execution_count": 28,
     "metadata": {},
     "output_type": "execute_result"
    }
   ],
   "source": [
    "Counter(positive_corpus).most_common(30)"
   ]
  },
  {
   "cell_type": "code",
   "execution_count": 29,
   "id": "a65428ce",
   "metadata": {},
   "outputs": [
    {
     "data": {
      "text/plain": [
       "[('গান', 91),\n",
       " ('এই', 51),\n",
       " ('নাই', 48),\n",
       " ('মই', 39),\n",
       " ('গানটো', 29),\n",
       " ('এইটো', 29),\n",
       " ('কৰি', 29),\n",
       " ('বেয়া', 27),\n",
       " ('এটা', 24),\n",
       " ('ভাল', 24),\n",
       " ('মোৰ', 24),\n",
       " ('কৰা', 22),\n",
       " ('শুনি', 21),\n",
       " ('আপোনাৰ', 21),\n",
       " ('নেকি', 19),\n",
       " ('আপুনি', 19),\n",
       " ('হৈছে', 18),\n",
       " ('গীত', 17),\n",
       " ('কৰক', 16),\n",
       " ('কেলা', 16),\n",
       " ('পাগল', 16),\n",
       " ('ইমান', 14),\n",
       " ('আছে', 14),\n",
       " ('হ', 13),\n",
       " ('কৰিব', 13),\n",
       " ('পিছত', 13),\n",
       " ('অসমীয়া', 13),\n",
       " ('টো', 12),\n",
       " ('কাম', 12),\n",
       " ('ভিডিঅ', 11)]"
      ]
     },
     "execution_count": 29,
     "metadata": {},
     "output_type": "execute_result"
    }
   ],
   "source": [
    "negative_corpus=[]\n",
    "for snt in df[df['Sentiment']==0]['cleaned_sentence'].tolist():\n",
    "    for word in snt.split():\n",
    "        negative_corpus.append(word)\n",
    "Counter(negative_corpus).most_common(30)"
   ]
  },
  {
   "cell_type": "code",
   "execution_count": 30,
   "id": "36784557",
   "metadata": {},
   "outputs": [
    {
     "data": {
      "text/plain": [
       "2754"
      ]
     },
     "execution_count": 30,
     "metadata": {},
     "output_type": "execute_result"
    }
   ],
   "source": [
    "len(negative_corpus)"
   ]
  },
  {
   "cell_type": "markdown",
   "id": "328889ef",
   "metadata": {},
   "source": [
    "## Feature extraction using TF-IDF"
   ]
  },
  {
   "cell_type": "code",
   "execution_count": 31,
   "id": "a0f09a19",
   "metadata": {},
   "outputs": [],
   "source": [
    "from sklearn.feature_extraction.text import TfidfVectorizer"
   ]
  },
  {
   "cell_type": "code",
   "execution_count": 32,
   "id": "14e5ab36",
   "metadata": {},
   "outputs": [],
   "source": [
    "tfidf=TfidfVectorizer(max_features=500)"
   ]
  },
  {
   "cell_type": "code",
   "execution_count": 33,
   "id": "cb49c852",
   "metadata": {},
   "outputs": [],
   "source": [
    "X = tfidf.fit_transform(df['cleaned_sentence']).toarray()"
   ]
  },
  {
   "cell_type": "code",
   "execution_count": 34,
   "id": "b5a9e1e8",
   "metadata": {},
   "outputs": [
    {
     "data": {
      "text/plain": [
       "(1016, 500)"
      ]
     },
     "execution_count": 34,
     "metadata": {},
     "output_type": "execute_result"
    }
   ],
   "source": [
    "X.shape"
   ]
  },
  {
   "cell_type": "code",
   "execution_count": 35,
   "id": "4fe1d622",
   "metadata": {},
   "outputs": [],
   "source": [
    "Y=df['Sentiment'].values"
   ]
  },
  {
   "cell_type": "code",
   "execution_count": 36,
   "id": "87ac4ac6",
   "metadata": {},
   "outputs": [
    {
     "data": {
      "text/plain": [
       "(1016,)"
      ]
     },
     "execution_count": 36,
     "metadata": {},
     "output_type": "execute_result"
    }
   ],
   "source": [
    "Y.shape"
   ]
  },
  {
   "cell_type": "markdown",
   "id": "77e062e3",
   "metadata": {},
   "source": [
    "## Train test split"
   ]
  },
  {
   "cell_type": "code",
   "execution_count": 37,
   "id": "c12517ba",
   "metadata": {},
   "outputs": [],
   "source": [
    "from sklearn.model_selection import train_test_split"
   ]
  },
  {
   "cell_type": "code",
   "execution_count": 38,
   "id": "3091e37e",
   "metadata": {},
   "outputs": [],
   "source": [
    "X_train, X_test, Y_train, Y_test = train_test_split(X,Y,test_size=0.2,random_state=2)"
   ]
  },
  {
   "cell_type": "code",
   "execution_count": 39,
   "id": "396f3592",
   "metadata": {},
   "outputs": [
    {
     "name": "stdout",
     "output_type": "stream",
     "text": [
      "(812, 500) (204, 500)\n",
      "(812,) (204,)\n"
     ]
    }
   ],
   "source": [
    "print(X_train.shape,X_test.shape)\n",
    "print(Y_train.shape,Y_test.shape)"
   ]
  },
  {
   "cell_type": "code",
   "execution_count": 40,
   "id": "e59254f1",
   "metadata": {},
   "outputs": [],
   "source": [
    "from sklearn.metrics import accuracy_score,confusion_matrix,precision_score,f1_score,recall_score"
   ]
  },
  {
   "cell_type": "markdown",
   "id": "24a07c4a",
   "metadata": {},
   "source": [
    "## Training our model with different classifying algorithms"
   ]
  },
  {
   "cell_type": "code",
   "execution_count": 41,
   "id": "e8c3a91a",
   "metadata": {},
   "outputs": [],
   "source": [
    "from sklearn.linear_model import LogisticRegression\n",
    "from sklearn.svm import SVC\n",
    "from sklearn.naive_bayes import MultinomialNB\n",
    "from sklearn.tree import DecisionTreeClassifier\n",
    "from sklearn.neighbors import KNeighborsClassifier\n",
    "from sklearn.ensemble import RandomForestClassifier\n",
    "from sklearn.ensemble import ExtraTreesClassifier"
   ]
  },
  {
   "cell_type": "code",
   "execution_count": 42,
   "id": "17016014",
   "metadata": {},
   "outputs": [],
   "source": [
    "svc=SVC(kernel='rbf', gamma= 1.0, C= 0.8)\n",
    "knc=KNeighborsClassifier(weights='distance', n_neighbors=3, metric= 'euclidean', algorithm='brute')\n",
    "mnb=MultinomialNB()\n",
    "dtc=DecisionTreeClassifier(max_depth= 200, criterion='entropy')\n",
    "lrc=LogisticRegression(tol= 0.1, solver='liblinear', C=1.0)\n",
    "rfc=RandomForestClassifier(n_estimators= 1000,max_features='log2', criterion='entropy')\n",
    "etc=ExtraTreesClassifier(n_estimators= 100, max_features='log2', max_depth= 120, criterion='entropy')"
   ]
  },
  {
   "cell_type": "code",
   "execution_count": 43,
   "id": "aea2c4ff",
   "metadata": {},
   "outputs": [],
   "source": [
    "clfs={\n",
    "    'SVC':svc,\n",
    "    'KN':knc,\n",
    "    'NB':mnb,\n",
    "    'DT':dtc,\n",
    "    'LR':lrc,\n",
    "    'RF':rfc,\n",
    "    'ETC':etc\n",
    "}"
   ]
  },
  {
   "cell_type": "code",
   "execution_count": 44,
   "id": "ac1013e3",
   "metadata": {},
   "outputs": [],
   "source": [
    "\n",
    "def train_classifier(clf,X_train,Y_train,X_test,Y_test):\n",
    "    clf.fit(X_train,Y_train)\n",
    "    Y_pred=clf.predict(X_test)\n",
    "    accuracy=accuracy_score(Y_test,Y_pred)\n",
    "    precision=precision_score(Y_test,Y_pred)\n",
    "    f1score=f1_score(Y_test,Y_pred)\n",
    "    recall=recall_score(Y_test,Y_pred)\n",
    "    return accuracy,precision,f1score,recall"
   ]
  },
  {
   "cell_type": "code",
   "execution_count": 47,
   "id": "882ef390",
   "metadata": {},
   "outputs": [
    {
     "name": "stdout",
     "output_type": "stream",
     "text": [
      "For SVC\n",
      "Accuracy-  0.7745098039215687\n",
      "Precision-  0.7222222222222222\n",
      "F1 Score-  0.7722772277227723\n",
      "Recall-  0.8297872340425532\n",
      "\n",
      "\n",
      "For KN\n",
      "Accuracy-  0.6666666666666666\n",
      "Precision-  0.782608695652174\n",
      "F1 Score-  0.5142857142857143\n",
      "Recall-  0.3829787234042553\n",
      "\n",
      "\n",
      "For NB\n",
      "Accuracy-  0.7450980392156863\n",
      "Precision-  0.6875\n",
      "F1 Score-  0.7475728155339806\n",
      "Recall-  0.8191489361702128\n",
      "\n",
      "\n",
      "For DT\n",
      "Accuracy-  0.7009803921568627\n",
      "Precision-  0.6896551724137931\n",
      "F1 Score-  0.6629834254143647\n",
      "Recall-  0.6382978723404256\n",
      "\n",
      "\n",
      "For LR\n",
      "Accuracy-  0.7647058823529411\n",
      "Precision-  0.7169811320754716\n",
      "F1 Score-  0.76\n",
      "Recall-  0.8085106382978723\n",
      "\n",
      "\n",
      "For RF\n",
      "Accuracy-  0.75\n",
      "Precision-  0.7216494845360825\n",
      "F1 Score-  0.7329842931937173\n",
      "Recall-  0.7446808510638298\n",
      "\n",
      "\n",
      "For ETC\n",
      "Accuracy-  0.8137254901960784\n",
      "Precision-  0.7916666666666666\n",
      "F1 Score-  0.7999999999999999\n",
      "Recall-  0.8085106382978723\n",
      "\n",
      "\n"
     ]
    }
   ],
   "source": [
    "for name,clf in clfs.items():\n",
    "    current_accuracy,current_precision,current_f1score,current_recall=train_classifier(clf,X_train,Y_train,X_test,Y_test)\n",
    "    print(\"For\",name)\n",
    "    print(\"Accuracy- \", current_accuracy)\n",
    "    print(\"Precision- \",current_precision)\n",
    "    print(\"F1 Score- \",current_f1score)\n",
    "    print(\"Recall- \",current_recall)\n",
    "    print(\"\\n\")"
   ]
  },
  {
   "cell_type": "code",
   "execution_count": 65,
   "id": "182b1766",
   "metadata": {},
   "outputs": [
    {
     "name": "stdout",
     "output_type": "stream",
     "text": [
      "0.8186274509803921\n",
      "[[89 21]\n",
      " [16 78]]\n"
     ]
    }
   ],
   "source": [
    "#best accuracy by extra trees classifier (81% approx)\n",
    "etc.fit(X_train,Y_train)\n",
    "Y_pred=etc.predict(X_test)\n",
    "print(accuracy_score(Y_test,Y_pred))\n",
    "print(confusion_matrix(Y_test,Y_pred))"
   ]
  },
  {
   "cell_type": "markdown",
   "id": "24e469f7",
   "metadata": {},
   "source": [
    "## Confusion matrix"
   ]
  },
  {
   "cell_type": "code",
   "execution_count": 66,
   "id": "abb95009",
   "metadata": {},
   "outputs": [
    {
     "data": {
      "text/plain": [
       "<AxesSubplot:>"
      ]
     },
     "execution_count": 66,
     "metadata": {},
     "output_type": "execute_result"
    },
    {
     "data": {
      "image/png": "[encoded data removed]",
      "text/plain": [
       "<Figure size 432x288 with 2 Axes>"
      ]
     },
     "metadata": {
      "needs_background": "light"
     },
     "output_type": "display_data"
    }
   ],
   "source": [
    "# Heatmap visualising confusion matrix of extra trees clasifier \n",
    "sns.heatmap(confusion_matrix(Y_test,Y_pred), annot=True)"
   ]
  },
  {
   "cell_type": "markdown",
   "id": "8a707d4c",
   "metadata": {},
   "source": [
    "## Exporting the model and vectorizer"
   ]
  },
  {
   "cell_type": "code",
   "execution_count": 158,
   "id": "d41bbee4",
   "metadata": {},
   "outputs": [],
   "source": [
    "import pickle"
   ]
  },
  {
   "cell_type": "code",
   "execution_count": 160,
   "id": "1ae3c8de",
   "metadata": {},
   "outputs": [],
   "source": [
    "pickle.dump(tfidf,open('vectorizer_inl.pkl','wb'))\n",
    "pickle.dump(etc,open('model_inl.pkl','wb'))"
   ]
  },
  {
   "cell_type": "code",
   "execution_count": null,
   "id": "3ff2adc0",
   "metadata": {},
   "outputs": [],
   "source": []
  }
 ],
 "metadata": {
  "kernelspec": {
   "display_name": "Python 3",
   "language": "python",
   "name": "python3"
  },
  "language_info": {
   "codemirror_mode": {
    "name": "ipython",
    "version": 3
   },
   "file_extension": ".py",
   "mimetype": "text/x-python",
   "name": "python",
   "nbconvert_exporter": "python",
   "pygments_lexer": "ipython3",
   "version": "3.8.8"
  }
 },
 "nbformat": 4,
 "nbformat_minor": 5
}
