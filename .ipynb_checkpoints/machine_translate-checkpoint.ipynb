{
 "cells": [
  {
   "cell_type": "code",
   "execution_count": 3,
   "id": "3edb64c3",
   "metadata": {},
   "outputs": [],
   "source": [
    "import pandas as pd\n",
    "import numpy as np\n",
    "import matplotlib.pyplot as plt\n",
    "import seaborn as sns\n",
    "import nltk\n",
    "import string\n",
    "from nltk.corpus import stopwords\n",
    "from nltk.stem import PorterStemmer"
   ]
  },
  {
   "cell_type": "markdown",
   "id": "94ece5ed",
   "metadata": {},
   "source": [
    "## Loading the data"
   ]
  },
  {
   "cell_type": "code",
   "execution_count": 4,
   "id": "36bb3404",
   "metadata": {},
   "outputs": [
    {
     "data": {
      "text/html": [
       "<div>\n",
       "<style scoped>\n",
       "    .dataframe tbody tr th:only-of-type {\n",
       "        vertical-align: middle;\n",
       "    }\n",
       "\n",
       "    .dataframe tbody tr th {\n",
       "        vertical-align: top;\n",
       "    }\n",
       "\n",
       "    .dataframe thead th {\n",
       "        text-align: right;\n",
       "    }\n",
       "</style>\n",
       "<table border=\"1\" class=\"dataframe\">\n",
       "  <thead>\n",
       "    <tr style=\"text-align: right;\">\n",
       "      <th></th>\n",
       "      <th>Sentence</th>\n",
       "      <th>Sentiment</th>\n",
       "      <th>Translated</th>\n",
       "    </tr>\n",
       "  </thead>\n",
       "  <tbody>\n",
       "    <tr>\n",
       "      <th>101</th>\n",
       "      <td>সুকন্ঠৰে সভ্য গীত গাব লাগে</td>\n",
       "      <td>0</td>\n",
       "      <td>Sing civilised songs with a voice</td>\n",
       "    </tr>\n",
       "    <tr>\n",
       "      <th>458</th>\n",
       "      <td>আও ধুনীয়া ভিডিও</td>\n",
       "      <td>1</td>\n",
       "      <td>Aao Beautiful Videos</td>\n",
       "    </tr>\n",
       "    <tr>\n",
       "      <th>837</th>\n",
       "      <td>যদি জান গাব নাজানো তেতিয়া হলে অযথা গান বোৰ গা...</td>\n",
       "      <td>0</td>\n",
       "      <td>If you don't know how to sing, don't sing unne...</td>\n",
       "    </tr>\n",
       "    <tr>\n",
       "      <th>206</th>\n",
       "      <td>মই এই গানটো প্ৰতিদিনে বজাওঁ</td>\n",
       "      <td>1</td>\n",
       "      <td>I play this song every day</td>\n",
       "    </tr>\n",
       "    <tr>\n",
       "      <th>231</th>\n",
       "      <td>নিজৰ প্ৰতিভাৰ ওপৰত বিশ্বাস ৰাখি আগুৱাই যোৱা ।</td>\n",
       "      <td>1</td>\n",
       "      <td>To keep faith in your talent and move forward.</td>\n",
       "    </tr>\n",
       "    <tr>\n",
       "      <th>205</th>\n",
       "      <td>গৰিলা</td>\n",
       "      <td>0</td>\n",
       "      <td>guerrilla</td>\n",
       "    </tr>\n",
       "    <tr>\n",
       "      <th>463</th>\n",
       "      <td>চুলি কাটি লো আগত</td>\n",
       "      <td>0</td>\n",
       "      <td>Cut your hair in advance</td>\n",
       "    </tr>\n",
       "    <tr>\n",
       "      <th>694</th>\n",
       "      <td>কোনে কোনে দিশ্লিকে কৰিব আহিছে</td>\n",
       "      <td>0</td>\n",
       "      <td>Who is coming to do it in a way?</td>\n",
       "    </tr>\n",
       "    <tr>\n",
       "      <th>220</th>\n",
       "      <td>ইমান ধুনীয়া বিহু গানবোৰ শুনিয়েই সৰুৰ পৰা ডাঙ...</td>\n",
       "      <td>1</td>\n",
       "      <td>He grew up from a young age after listening to...</td>\n",
       "    </tr>\n",
       "    <tr>\n",
       "      <th>13</th>\n",
       "      <td>কি যে সুন্দৰ গীতটো</td>\n",
       "      <td>1</td>\n",
       "      <td>What a beautiful song</td>\n",
       "    </tr>\n",
       "  </tbody>\n",
       "</table>\n",
       "</div>"
      ],
      "text/plain": [
       "                                              Sentence  Sentiment  \\\n",
       "101                         সুকন্ঠৰে সভ্য গীত গাব লাগে          0   \n",
       "458                                    আও ধুনীয়া ভিডিও          1   \n",
       "837  যদি জান গাব নাজানো তেতিয়া হলে অযথা গান বোৰ গা...          0   \n",
       "206                        মই এই গানটো প্ৰতিদিনে বজাওঁ          1   \n",
       "231      নিজৰ প্ৰতিভাৰ ওপৰত বিশ্বাস ৰাখি আগুৱাই যোৱা ।          1   \n",
       "205                                              গৰিলা          0   \n",
       "463                                   চুলি কাটি লো আগত          0   \n",
       "694                      কোনে কোনে দিশ্লিকে কৰিব আহিছে          0   \n",
       "220  ইমান ধুনীয়া বিহু গানবোৰ শুনিয়েই সৰুৰ পৰা ডাঙ...          1   \n",
       "13                                  কি যে সুন্দৰ গীতটো          1   \n",
       "\n",
       "                                            Translated  \n",
       "101                  Sing civilised songs with a voice  \n",
       "458                               Aao Beautiful Videos  \n",
       "837  If you don't know how to sing, don't sing unne...  \n",
       "206                         I play this song every day  \n",
       "231     To keep faith in your talent and move forward.  \n",
       "205                                          guerrilla  \n",
       "463                           Cut your hair in advance  \n",
       "694                   Who is coming to do it in a way?  \n",
       "220  He grew up from a young age after listening to...  \n",
       "13                               What a beautiful song  "
      ]
     },
     "execution_count": 4,
     "metadata": {},
     "output_type": "execute_result"
    }
   ],
   "source": [
    "df=pd.read_csv('translated.csv',encoding='utf-8')\n",
    "df.sample(10)"
   ]
  },
  {
   "cell_type": "code",
   "execution_count": 5,
   "id": "f7c355a2",
   "metadata": {},
   "outputs": [
    {
     "data": {
      "text/plain": [
       "(1028, 3)"
      ]
     },
     "execution_count": 5,
     "metadata": {},
     "output_type": "execute_result"
    }
   ],
   "source": [
    "df.shape"
   ]
  },
  {
   "cell_type": "code",
   "execution_count": 6,
   "id": "73f1f9af",
   "metadata": {},
   "outputs": [
    {
     "name": "stdout",
     "output_type": "stream",
     "text": [
      "<class 'pandas.core.frame.DataFrame'>\n",
      "RangeIndex: 1028 entries, 0 to 1027\n",
      "Data columns (total 3 columns):\n",
      " #   Column      Non-Null Count  Dtype \n",
      "---  ------      --------------  ----- \n",
      " 0   Sentence    1028 non-null   object\n",
      " 1   Sentiment   1028 non-null   int64 \n",
      " 2   Translated  1028 non-null   object\n",
      "dtypes: int64(1), object(2)\n",
      "memory usage: 24.2+ KB\n"
     ]
    }
   ],
   "source": [
    "df.info()"
   ]
  },
  {
   "cell_type": "code",
   "execution_count": 7,
   "id": "32faa4ce",
   "metadata": {},
   "outputs": [
    {
     "data": {
      "text/plain": [
       "Sentence      0\n",
       "Sentiment     0\n",
       "Translated    0\n",
       "dtype: int64"
      ]
     },
     "execution_count": 7,
     "metadata": {},
     "output_type": "execute_result"
    }
   ],
   "source": [
    "#checking missing values\n",
    "df.isnull().sum()"
   ]
  },
  {
   "cell_type": "markdown",
   "id": "efb6a778",
   "metadata": {},
   "source": [
    "## Removing duplicate values"
   ]
  },
  {
   "cell_type": "code",
   "execution_count": 8,
   "id": "14e94899",
   "metadata": {},
   "outputs": [
    {
     "data": {
      "text/plain": [
       "14"
      ]
     },
     "execution_count": 8,
     "metadata": {},
     "output_type": "execute_result"
    }
   ],
   "source": [
    "#check for duplicate values\n",
    "df.duplicated().sum()"
   ]
  },
  {
   "cell_type": "code",
   "execution_count": 9,
   "id": "9f97c9a2",
   "metadata": {},
   "outputs": [
    {
     "data": {
      "text/plain": [
       "(1005, 3)"
      ]
     },
     "execution_count": 9,
     "metadata": {},
     "output_type": "execute_result"
    }
   ],
   "source": [
    "#removing duplicates\n",
    "df.drop_duplicates(subset =\"Translated\",\n",
    "                     keep ='first', inplace = True)\n",
    "df.shape"
   ]
  },
  {
   "cell_type": "markdown",
   "id": "463a5e58",
   "metadata": {},
   "source": [
    "# EDA\n",
    "## Distribution of positive and negative sentences"
   ]
  },
  {
   "cell_type": "code",
   "execution_count": 10,
   "id": "9482d4ec",
   "metadata": {},
   "outputs": [
    {
     "data": {
      "text/plain": [
       "0    513\n",
       "1    492\n",
       "Name: Sentiment, dtype: int64"
      ]
     },
     "execution_count": 10,
     "metadata": {},
     "output_type": "execute_result"
    }
   ],
   "source": [
    "df['Sentiment'].value_counts()"
   ]
  },
  {
   "cell_type": "code",
   "execution_count": 11,
   "id": "56dca57d",
   "metadata": {},
   "outputs": [
    {
     "data": {
      "image/png": "[encoded data removed]",
      "text/plain": [
       "<Figure size 432x288 with 1 Axes>"
      ]
     },
     "metadata": {},
     "output_type": "display_data"
    }
   ],
   "source": [
    "plt.pie(df['Sentiment'].value_counts(),labels=['Negative','Positive'],colors=['red','lime'],autopct=\"%0.2f\")\n",
    "plt.show()"
   ]
  },
  {
   "cell_type": "markdown",
   "id": "16e94eac",
   "metadata": {},
   "source": [
    "## Number of characters in each sentence"
   ]
  },
  {
   "cell_type": "code",
   "execution_count": 12,
   "id": "733acde7",
   "metadata": {},
   "outputs": [],
   "source": [
    "df['num_char']=df['Translated'].apply(len)"
   ]
  },
  {
   "cell_type": "code",
   "execution_count": 13,
   "id": "4af6e186",
   "metadata": {},
   "outputs": [
    {
     "data": {
      "text/html": [
       "<div>\n",
       "<style scoped>\n",
       "    .dataframe tbody tr th:only-of-type {\n",
       "        vertical-align: middle;\n",
       "    }\n",
       "\n",
       "    .dataframe tbody tr th {\n",
       "        vertical-align: top;\n",
       "    }\n",
       "\n",
       "    .dataframe thead th {\n",
       "        text-align: right;\n",
       "    }\n",
       "</style>\n",
       "<table border=\"1\" class=\"dataframe\">\n",
       "  <thead>\n",
       "    <tr style=\"text-align: right;\">\n",
       "      <th></th>\n",
       "      <th>Sentence</th>\n",
       "      <th>Sentiment</th>\n",
       "      <th>Translated</th>\n",
       "      <th>num_char</th>\n",
       "    </tr>\n",
       "  </thead>\n",
       "  <tbody>\n",
       "    <tr>\n",
       "      <th>0</th>\n",
       "      <td>এই গানটো কোনে লিখিছিল নো?</td>\n",
       "      <td>1</td>\n",
       "      <td>Who wrote this song no?</td>\n",
       "      <td>23</td>\n",
       "    </tr>\n",
       "    <tr>\n",
       "      <th>1</th>\n",
       "      <td>মাকচুদু</td>\n",
       "      <td>0</td>\n",
       "      <td>makchudu</td>\n",
       "      <td>8</td>\n",
       "    </tr>\n",
       "    <tr>\n",
       "      <th>2</th>\n",
       "      <td>বৰ্তমান সময়ত এনেকুৱা মধুৰ গীত শুনিবলৈ পোৱা বহু...</td>\n",
       "      <td>1</td>\n",
       "      <td>It is very difficult to hear such sweet songs ...</td>\n",
       "      <td>52</td>\n",
       "    </tr>\n",
       "    <tr>\n",
       "      <th>3</th>\n",
       "      <td>কি গান গাবলৈ আহি ছ</td>\n",
       "      <td>0</td>\n",
       "      <td>What songs to sing</td>\n",
       "      <td>18</td>\n",
       "    </tr>\n",
       "    <tr>\n",
       "      <th>4</th>\n",
       "      <td>গানটো গাবলৈ লাজ নাই</td>\n",
       "      <td>0</td>\n",
       "      <td>No shame in singing the song</td>\n",
       "      <td>28</td>\n",
       "    </tr>\n",
       "  </tbody>\n",
       "</table>\n",
       "</div>"
      ],
      "text/plain": [
       "                                            Sentence  Sentiment  \\\n",
       "0                          এই গানটো কোনে লিখিছিল নো?          1   \n",
       "1                                            মাকচুদু          0   \n",
       "2  বৰ্তমান সময়ত এনেকুৱা মধুৰ গীত শুনিবলৈ পোৱা বহু...          1   \n",
       "3                                 কি গান গাবলৈ আহি ছ          0   \n",
       "4                                গানটো গাবলৈ লাজ নাই          0   \n",
       "\n",
       "                                          Translated  num_char  \n",
       "0                            Who wrote this song no?        23  \n",
       "1                                           makchudu         8  \n",
       "2  It is very difficult to hear such sweet songs ...        52  \n",
       "3                                 What songs to sing        18  \n",
       "4                       No shame in singing the song        28  "
      ]
     },
     "execution_count": 13,
     "metadata": {},
     "output_type": "execute_result"
    }
   ],
   "source": [
    "df.head()"
   ]
  },
  {
   "cell_type": "markdown",
   "id": "250908d9",
   "metadata": {},
   "source": [
    "## Number of words in each sentence"
   ]
  },
  {
   "cell_type": "code",
   "execution_count": 14,
   "id": "f4fede38",
   "metadata": {},
   "outputs": [
    {
     "data": {
      "text/html": [
       "<div>\n",
       "<style scoped>\n",
       "    .dataframe tbody tr th:only-of-type {\n",
       "        vertical-align: middle;\n",
       "    }\n",
       "\n",
       "    .dataframe tbody tr th {\n",
       "        vertical-align: top;\n",
       "    }\n",
       "\n",
       "    .dataframe thead th {\n",
       "        text-align: right;\n",
       "    }\n",
       "</style>\n",
       "<table border=\"1\" class=\"dataframe\">\n",
       "  <thead>\n",
       "    <tr style=\"text-align: right;\">\n",
       "      <th></th>\n",
       "      <th>Sentence</th>\n",
       "      <th>Sentiment</th>\n",
       "      <th>Translated</th>\n",
       "      <th>num_char</th>\n",
       "      <th>num_words</th>\n",
       "    </tr>\n",
       "  </thead>\n",
       "  <tbody>\n",
       "    <tr>\n",
       "      <th>0</th>\n",
       "      <td>এই গানটো কোনে লিখিছিল নো?</td>\n",
       "      <td>1</td>\n",
       "      <td>Who wrote this song no?</td>\n",
       "      <td>23</td>\n",
       "      <td>6</td>\n",
       "    </tr>\n",
       "    <tr>\n",
       "      <th>1</th>\n",
       "      <td>মাকচুদু</td>\n",
       "      <td>0</td>\n",
       "      <td>makchudu</td>\n",
       "      <td>8</td>\n",
       "      <td>1</td>\n",
       "    </tr>\n",
       "    <tr>\n",
       "      <th>2</th>\n",
       "      <td>বৰ্তমান সময়ত এনেকুৱা মধুৰ গীত শুনিবলৈ পোৱা বহু...</td>\n",
       "      <td>1</td>\n",
       "      <td>It is very difficult to hear such sweet songs ...</td>\n",
       "      <td>52</td>\n",
       "      <td>11</td>\n",
       "    </tr>\n",
       "    <tr>\n",
       "      <th>3</th>\n",
       "      <td>কি গান গাবলৈ আহি ছ</td>\n",
       "      <td>0</td>\n",
       "      <td>What songs to sing</td>\n",
       "      <td>18</td>\n",
       "      <td>4</td>\n",
       "    </tr>\n",
       "    <tr>\n",
       "      <th>4</th>\n",
       "      <td>গানটো গাবলৈ লাজ নাই</td>\n",
       "      <td>0</td>\n",
       "      <td>No shame in singing the song</td>\n",
       "      <td>28</td>\n",
       "      <td>6</td>\n",
       "    </tr>\n",
       "  </tbody>\n",
       "</table>\n",
       "</div>"
      ],
      "text/plain": [
       "                                            Sentence  Sentiment  \\\n",
       "0                          এই গানটো কোনে লিখিছিল নো?          1   \n",
       "1                                            মাকচুদু          0   \n",
       "2  বৰ্তমান সময়ত এনেকুৱা মধুৰ গীত শুনিবলৈ পোৱা বহু...          1   \n",
       "3                                 কি গান গাবলৈ আহি ছ          0   \n",
       "4                                গানটো গাবলৈ লাজ নাই          0   \n",
       "\n",
       "                                          Translated  num_char  num_words  \n",
       "0                            Who wrote this song no?        23          6  \n",
       "1                                           makchudu         8          1  \n",
       "2  It is very difficult to hear such sweet songs ...        52         11  \n",
       "3                                 What songs to sing        18          4  \n",
       "4                       No shame in singing the song        28          6  "
      ]
     },
     "execution_count": 14,
     "metadata": {},
     "output_type": "execute_result"
    }
   ],
   "source": [
    "df['num_words']=df['Translated'].apply(lambda x:len(nltk.word_tokenize(x)))\n",
    "df.head()"
   ]
  },
  {
   "cell_type": "code",
   "execution_count": 15,
   "id": "c07f75d4",
   "metadata": {},
   "outputs": [
    {
     "data": {
      "text/html": [
       "<div>\n",
       "<style scoped>\n",
       "    .dataframe tbody tr th:only-of-type {\n",
       "        vertical-align: middle;\n",
       "    }\n",
       "\n",
       "    .dataframe tbody tr th {\n",
       "        vertical-align: top;\n",
       "    }\n",
       "\n",
       "    .dataframe thead th {\n",
       "        text-align: right;\n",
       "    }\n",
       "</style>\n",
       "<table border=\"1\" class=\"dataframe\">\n",
       "  <thead>\n",
       "    <tr style=\"text-align: right;\">\n",
       "      <th></th>\n",
       "      <th>num_char</th>\n",
       "      <th>num_words</th>\n",
       "    </tr>\n",
       "  </thead>\n",
       "  <tbody>\n",
       "    <tr>\n",
       "      <th>count</th>\n",
       "      <td>1005.000000</td>\n",
       "      <td>1005.000000</td>\n",
       "    </tr>\n",
       "    <tr>\n",
       "      <th>mean</th>\n",
       "      <td>36.753234</td>\n",
       "      <td>7.806965</td>\n",
       "    </tr>\n",
       "    <tr>\n",
       "      <th>std</th>\n",
       "      <td>25.297489</td>\n",
       "      <td>5.415831</td>\n",
       "    </tr>\n",
       "    <tr>\n",
       "      <th>min</th>\n",
       "      <td>3.000000</td>\n",
       "      <td>1.000000</td>\n",
       "    </tr>\n",
       "    <tr>\n",
       "      <th>25%</th>\n",
       "      <td>20.000000</td>\n",
       "      <td>4.000000</td>\n",
       "    </tr>\n",
       "    <tr>\n",
       "      <th>50%</th>\n",
       "      <td>31.000000</td>\n",
       "      <td>7.000000</td>\n",
       "    </tr>\n",
       "    <tr>\n",
       "      <th>75%</th>\n",
       "      <td>48.000000</td>\n",
       "      <td>10.000000</td>\n",
       "    </tr>\n",
       "    <tr>\n",
       "      <th>max</th>\n",
       "      <td>201.000000</td>\n",
       "      <td>43.000000</td>\n",
       "    </tr>\n",
       "  </tbody>\n",
       "</table>\n",
       "</div>"
      ],
      "text/plain": [
       "          num_char    num_words\n",
       "count  1005.000000  1005.000000\n",
       "mean     36.753234     7.806965\n",
       "std      25.297489     5.415831\n",
       "min       3.000000     1.000000\n",
       "25%      20.000000     4.000000\n",
       "50%      31.000000     7.000000\n",
       "75%      48.000000    10.000000\n",
       "max     201.000000    43.000000"
      ]
     },
     "execution_count": 15,
     "metadata": {},
     "output_type": "execute_result"
    }
   ],
   "source": [
    "df[['num_char','num_words']].describe()"
   ]
  },
  {
   "cell_type": "code",
   "execution_count": 16,
   "id": "a457bd74",
   "metadata": {},
   "outputs": [
    {
     "data": {
      "text/html": [
       "<div>\n",
       "<style scoped>\n",
       "    .dataframe tbody tr th:only-of-type {\n",
       "        vertical-align: middle;\n",
       "    }\n",
       "\n",
       "    .dataframe tbody tr th {\n",
       "        vertical-align: top;\n",
       "    }\n",
       "\n",
       "    .dataframe thead th {\n",
       "        text-align: right;\n",
       "    }\n",
       "</style>\n",
       "<table border=\"1\" class=\"dataframe\">\n",
       "  <thead>\n",
       "    <tr style=\"text-align: right;\">\n",
       "      <th></th>\n",
       "      <th>num_char</th>\n",
       "      <th>num_words</th>\n",
       "    </tr>\n",
       "  </thead>\n",
       "  <tbody>\n",
       "    <tr>\n",
       "      <th>count</th>\n",
       "      <td>492.000000</td>\n",
       "      <td>492.000000</td>\n",
       "    </tr>\n",
       "    <tr>\n",
       "      <th>mean</th>\n",
       "      <td>41.634146</td>\n",
       "      <td>8.796748</td>\n",
       "    </tr>\n",
       "    <tr>\n",
       "      <th>std</th>\n",
       "      <td>28.002478</td>\n",
       "      <td>5.926514</td>\n",
       "    </tr>\n",
       "    <tr>\n",
       "      <th>min</th>\n",
       "      <td>3.000000</td>\n",
       "      <td>1.000000</td>\n",
       "    </tr>\n",
       "    <tr>\n",
       "      <th>25%</th>\n",
       "      <td>22.000000</td>\n",
       "      <td>4.000000</td>\n",
       "    </tr>\n",
       "    <tr>\n",
       "      <th>50%</th>\n",
       "      <td>35.000000</td>\n",
       "      <td>8.000000</td>\n",
       "    </tr>\n",
       "    <tr>\n",
       "      <th>75%</th>\n",
       "      <td>54.000000</td>\n",
       "      <td>12.000000</td>\n",
       "    </tr>\n",
       "    <tr>\n",
       "      <th>max</th>\n",
       "      <td>201.000000</td>\n",
       "      <td>43.000000</td>\n",
       "    </tr>\n",
       "  </tbody>\n",
       "</table>\n",
       "</div>"
      ],
      "text/plain": [
       "         num_char   num_words\n",
       "count  492.000000  492.000000\n",
       "mean    41.634146    8.796748\n",
       "std     28.002478    5.926514\n",
       "min      3.000000    1.000000\n",
       "25%     22.000000    4.000000\n",
       "50%     35.000000    8.000000\n",
       "75%     54.000000   12.000000\n",
       "max    201.000000   43.000000"
      ]
     },
     "execution_count": 16,
     "metadata": {},
     "output_type": "execute_result"
    }
   ],
   "source": [
    "#positive sentiment\n",
    "df[df['Sentiment']==1][['num_char','num_words']].describe()"
   ]
  },
  {
   "cell_type": "code",
   "execution_count": 17,
   "id": "8c0b56ef",
   "metadata": {},
   "outputs": [
    {
     "data": {
      "text/html": [
       "<div>\n",
       "<style scoped>\n",
       "    .dataframe tbody tr th:only-of-type {\n",
       "        vertical-align: middle;\n",
       "    }\n",
       "\n",
       "    .dataframe tbody tr th {\n",
       "        vertical-align: top;\n",
       "    }\n",
       "\n",
       "    .dataframe thead th {\n",
       "        text-align: right;\n",
       "    }\n",
       "</style>\n",
       "<table border=\"1\" class=\"dataframe\">\n",
       "  <thead>\n",
       "    <tr style=\"text-align: right;\">\n",
       "      <th></th>\n",
       "      <th>num_char</th>\n",
       "      <th>num_words</th>\n",
       "    </tr>\n",
       "  </thead>\n",
       "  <tbody>\n",
       "    <tr>\n",
       "      <th>count</th>\n",
       "      <td>513.000000</td>\n",
       "      <td>513.000000</td>\n",
       "    </tr>\n",
       "    <tr>\n",
       "      <th>mean</th>\n",
       "      <td>32.072125</td>\n",
       "      <td>6.857700</td>\n",
       "    </tr>\n",
       "    <tr>\n",
       "      <th>std</th>\n",
       "      <td>21.403322</td>\n",
       "      <td>4.689294</td>\n",
       "    </tr>\n",
       "    <tr>\n",
       "      <th>min</th>\n",
       "      <td>3.000000</td>\n",
       "      <td>1.000000</td>\n",
       "    </tr>\n",
       "    <tr>\n",
       "      <th>25%</th>\n",
       "      <td>16.000000</td>\n",
       "      <td>3.000000</td>\n",
       "    </tr>\n",
       "    <tr>\n",
       "      <th>50%</th>\n",
       "      <td>28.000000</td>\n",
       "      <td>6.000000</td>\n",
       "    </tr>\n",
       "    <tr>\n",
       "      <th>75%</th>\n",
       "      <td>43.000000</td>\n",
       "      <td>9.000000</td>\n",
       "    </tr>\n",
       "    <tr>\n",
       "      <th>max</th>\n",
       "      <td>149.000000</td>\n",
       "      <td>33.000000</td>\n",
       "    </tr>\n",
       "  </tbody>\n",
       "</table>\n",
       "</div>"
      ],
      "text/plain": [
       "         num_char   num_words\n",
       "count  513.000000  513.000000\n",
       "mean    32.072125    6.857700\n",
       "std     21.403322    4.689294\n",
       "min      3.000000    1.000000\n",
       "25%     16.000000    3.000000\n",
       "50%     28.000000    6.000000\n",
       "75%     43.000000    9.000000\n",
       "max    149.000000   33.000000"
      ]
     },
     "execution_count": 17,
     "metadata": {},
     "output_type": "execute_result"
    }
   ],
   "source": [
    "#negative sentiment\n",
    "df[df['Sentiment']==0][['num_char','num_words']].describe()"
   ]
  },
  {
   "cell_type": "markdown",
   "id": "c2298e7c",
   "metadata": {},
   "source": [
    "## Data cleaning"
   ]
  },
  {
   "cell_type": "code",
   "execution_count": 18,
   "id": "419eb1f7",
   "metadata": {},
   "outputs": [],
   "source": [
    "ps = PorterStemmer()"
   ]
  },
  {
   "cell_type": "code",
   "execution_count": 19,
   "id": "acfdf14a",
   "metadata": {},
   "outputs": [],
   "source": [
    "def transform_t(text):\n",
    "    #making the text lowercase\n",
    "    text = text.lower()\n",
    "    #tokenizing\n",
    "    text = nltk.word_tokenize(text)\n",
    "    \n",
    "    y = []\n",
    "    #keeping the alphanumeric characters only\n",
    "    for i in text:\n",
    "        if i.isalnum():\n",
    "            y.append(i)\n",
    "    \n",
    "    text = y[:]\n",
    "    y.clear()\n",
    "    #Removing stopwords and punctuations\n",
    "    for i in text:\n",
    "        if i not in stopwords.words('english') and i not in string.punctuation:\n",
    "            y.append(i)\n",
    "            \n",
    "    text = y[:]\n",
    "    y.clear()\n",
    "    #stemming\n",
    "    for i in text:\n",
    "        y.append(ps.stem(i))\n",
    "    \n",
    "            \n",
    "    return \" \".join(y)"
   ]
  },
  {
   "cell_type": "code",
   "execution_count": 20,
   "id": "dedd6804",
   "metadata": {},
   "outputs": [
    {
     "data": {
      "text/plain": [
       "'difficult hear sweet song'"
      ]
     },
     "execution_count": 20,
     "metadata": {},
     "output_type": "execute_result"
    }
   ],
   "source": [
    "transform_t(\"It is very difficult to hear such sweet songs ...\")"
   ]
  },
  {
   "cell_type": "code",
   "execution_count": 21,
   "id": "ff611a51",
   "metadata": {},
   "outputs": [
    {
     "data": {
      "text/html": [
       "<div>\n",
       "<style scoped>\n",
       "    .dataframe tbody tr th:only-of-type {\n",
       "        vertical-align: middle;\n",
       "    }\n",
       "\n",
       "    .dataframe tbody tr th {\n",
       "        vertical-align: top;\n",
       "    }\n",
       "\n",
       "    .dataframe thead th {\n",
       "        text-align: right;\n",
       "    }\n",
       "</style>\n",
       "<table border=\"1\" class=\"dataframe\">\n",
       "  <thead>\n",
       "    <tr style=\"text-align: right;\">\n",
       "      <th></th>\n",
       "      <th>Sentence</th>\n",
       "      <th>Sentiment</th>\n",
       "      <th>Translated</th>\n",
       "      <th>num_char</th>\n",
       "      <th>num_words</th>\n",
       "      <th>Transformed</th>\n",
       "    </tr>\n",
       "  </thead>\n",
       "  <tbody>\n",
       "    <tr>\n",
       "      <th>142</th>\n",
       "      <td>.মই অসমবুজি নাপাওঁ কিন্তু মই এই সুৰ আৰু সংগীত ...</td>\n",
       "      <td>1</td>\n",
       "      <td>I don't understand inequality but I love this ...</td>\n",
       "      <td>60</td>\n",
       "      <td>12</td>\n",
       "      <td>understand inequ love tune music</td>\n",
       "    </tr>\n",
       "    <tr>\n",
       "      <th>917</th>\n",
       "      <td>কেনেকৈ ইমান অৰ্থপূৰ্ণ শব্দ বোৰ বিচাৰি পায়</td>\n",
       "      <td>1</td>\n",
       "      <td>How to find such meaningful words</td>\n",
       "      <td>33</td>\n",
       "      <td>6</td>\n",
       "      <td>find meaning word</td>\n",
       "    </tr>\n",
       "    <tr>\n",
       "      <th>394</th>\n",
       "      <td>আপোনাৰ কণ্ঠস্বৰ অসহনীয়</td>\n",
       "      <td>0</td>\n",
       "      <td>Your voice is unbearable</td>\n",
       "      <td>24</td>\n",
       "      <td>4</td>\n",
       "      <td>voic unbear</td>\n",
       "    </tr>\n",
       "    <tr>\n",
       "      <th>314</th>\n",
       "      <td>এইবোৰ হে বিহু শুনিলে শুনি থাকিবৰ মন যায়</td>\n",
       "      <td>1</td>\n",
       "      <td>It's all you feel like listening to when you h...</td>\n",
       "      <td>55</td>\n",
       "      <td>13</td>\n",
       "      <td>feel like listen hear bihu</td>\n",
       "    </tr>\n",
       "    <tr>\n",
       "      <th>993</th>\n",
       "      <td>অশ্লীল গীতত</td>\n",
       "      <td>0</td>\n",
       "      <td>in obscene song</td>\n",
       "      <td>15</td>\n",
       "      <td>3</td>\n",
       "      <td>obscen song</td>\n",
       "    </tr>\n",
       "    <tr>\n",
       "      <th>952</th>\n",
       "      <td>বহুত ভাল লাগিছে গানটো</td>\n",
       "      <td>1</td>\n",
       "      <td>It's great to have the song</td>\n",
       "      <td>27</td>\n",
       "      <td>7</td>\n",
       "      <td>great song</td>\n",
       "    </tr>\n",
       "    <tr>\n",
       "      <th>452</th>\n",
       "      <td>বেয়া লাগিল</td>\n",
       "      <td>0</td>\n",
       "      <td>it felt bad</td>\n",
       "      <td>11</td>\n",
       "      <td>3</td>\n",
       "      <td>felt bad</td>\n",
       "    </tr>\n",
       "    <tr>\n",
       "      <th>846</th>\n",
       "      <td>ষাৰ গৰু</td>\n",
       "      <td>0</td>\n",
       "      <td>sher cow</td>\n",
       "      <td>8</td>\n",
       "      <td>2</td>\n",
       "      <td>sher cow</td>\n",
       "    </tr>\n",
       "    <tr>\n",
       "      <th>543</th>\n",
       "      <td>গোটেই খন একেবাৰে ছেটেৰিং কৰি পেলাইছে</td>\n",
       "      <td>0</td>\n",
       "      <td>The whole thing is absolutely set.</td>\n",
       "      <td>34</td>\n",
       "      <td>7</td>\n",
       "      <td>whole thing absolut set</td>\n",
       "    </tr>\n",
       "    <tr>\n",
       "      <th>776</th>\n",
       "      <td>আপুনি এজন মানসিক ৰোগী</td>\n",
       "      <td>0</td>\n",
       "      <td>You are a mental lying patient</td>\n",
       "      <td>30</td>\n",
       "      <td>6</td>\n",
       "      <td>mental lie patient</td>\n",
       "    </tr>\n",
       "  </tbody>\n",
       "</table>\n",
       "</div>"
      ],
      "text/plain": [
       "                                              Sentence  Sentiment  \\\n",
       "142  .মই অসমবুজি নাপাওঁ কিন্তু মই এই সুৰ আৰু সংগীত ...          1   \n",
       "917          কেনেকৈ ইমান অৰ্থপূৰ্ণ শব্দ বোৰ বিচাৰি পায়          1   \n",
       "394                            আপোনাৰ কণ্ঠস্বৰ অসহনীয়          0   \n",
       "314           এইবোৰ হে বিহু শুনিলে শুনি থাকিবৰ মন যায়          1   \n",
       "993                                        অশ্লীল গীতত          0   \n",
       "952                              বহুত ভাল লাগিছে গানটো          1   \n",
       "452                                         বেয়া লাগিল          0   \n",
       "846                                            ষাৰ গৰু          0   \n",
       "543               গোটেই খন একেবাৰে ছেটেৰিং কৰি পেলাইছে          0   \n",
       "776                              আপুনি এজন মানসিক ৰোগী          0   \n",
       "\n",
       "                                            Translated  num_char  num_words  \\\n",
       "142  I don't understand inequality but I love this ...        60         12   \n",
       "917                  How to find such meaningful words        33          6   \n",
       "394                           Your voice is unbearable        24          4   \n",
       "314  It's all you feel like listening to when you h...        55         13   \n",
       "993                                    in obscene song        15          3   \n",
       "952                        It's great to have the song        27          7   \n",
       "452                                        it felt bad        11          3   \n",
       "846                                           sher cow         8          2   \n",
       "543                 The whole thing is absolutely set.        34          7   \n",
       "776                     You are a mental lying patient        30          6   \n",
       "\n",
       "                          Transformed  \n",
       "142  understand inequ love tune music  \n",
       "917                 find meaning word  \n",
       "394                       voic unbear  \n",
       "314        feel like listen hear bihu  \n",
       "993                       obscen song  \n",
       "952                        great song  \n",
       "452                          felt bad  \n",
       "846                          sher cow  \n",
       "543           whole thing absolut set  \n",
       "776                mental lie patient  "
      ]
     },
     "execution_count": 21,
     "metadata": {},
     "output_type": "execute_result"
    }
   ],
   "source": [
    "df['Transformed']=df['Translated'].apply(transform_t)\n",
    "df.sample(10)"
   ]
  },
  {
   "cell_type": "markdown",
   "id": "57ecbbc7",
   "metadata": {},
   "source": [
    "## Most frequent words in positive and negative sentences"
   ]
  },
  {
   "cell_type": "code",
   "execution_count": 22,
   "id": "a4cfb426",
   "metadata": {},
   "outputs": [],
   "source": [
    "positive_corpus=[]\n",
    "for snt in df[df['Sentiment']==1]['Transformed'].tolist():\n",
    "    for word in snt.split():\n",
    "        positive_corpus.append(word)"
   ]
  },
  {
   "cell_type": "code",
   "execution_count": 23,
   "id": "8f10f854",
   "metadata": {},
   "outputs": [],
   "source": [
    "from collections import Counter"
   ]
  },
  {
   "cell_type": "code",
   "execution_count": 24,
   "id": "0ee8b8ae",
   "metadata": {},
   "outputs": [
    {
     "data": {
      "text/plain": [
       "[('song', 264),\n",
       " ('listen', 59),\n",
       " ('beauti', 53),\n",
       " ('bihu', 53),\n",
       " ('assames', 42),\n",
       " ('hear', 29),\n",
       " ('love', 29),\n",
       " ('mind', 25),\n",
       " ('feel', 23),\n",
       " ('nice', 23),\n",
       " ('word', 23),\n",
       " ('music', 21),\n",
       " ('like', 19),\n",
       " ('time', 17),\n",
       " ('assam', 17),\n",
       " ('great', 16),\n",
       " ('heart', 16),\n",
       " ('one', 16),\n",
       " ('old', 15),\n",
       " ('fun', 15),\n",
       " ('day', 15),\n",
       " ('voic', 15),\n",
       " ('good', 15),\n",
       " ('sweet', 13),\n",
       " ('today', 13),\n",
       " ('da', 13),\n",
       " ('much', 13),\n",
       " ('make', 13),\n",
       " ('languag', 13),\n",
       " ('mani', 13)]"
      ]
     },
     "execution_count": 24,
     "metadata": {},
     "output_type": "execute_result"
    }
   ],
   "source": [
    "Counter(positive_corpus).most_common(30)"
   ]
  },
  {
   "cell_type": "code",
   "execution_count": 25,
   "id": "ca826a6d",
   "metadata": {},
   "outputs": [
    {
     "data": {
      "text/plain": [
       "[('song', 142),\n",
       " ('sing', 43),\n",
       " ('like', 28),\n",
       " ('assames', 27),\n",
       " ('listen', 23),\n",
       " ('bihu', 19),\n",
       " ('die', 18),\n",
       " ('dog', 18),\n",
       " ('video', 17),\n",
       " ('bad', 17),\n",
       " ('come', 14),\n",
       " ('watch', 13),\n",
       " ('peopl', 12),\n",
       " ('kela', 12),\n",
       " ('voic', 12),\n",
       " ('assam', 12),\n",
       " ('head', 11),\n",
       " ('side', 10),\n",
       " ('hear', 10),\n",
       " ('crazi', 10),\n",
       " ('feel', 10),\n",
       " ('make', 10),\n",
       " ('singer', 10),\n",
       " ('pleas', 9),\n",
       " ('want', 9),\n",
       " ('good', 9),\n",
       " ('work', 9),\n",
       " ('day', 9),\n",
       " ('worst', 9),\n",
       " ('even', 8)]"
      ]
     },
     "execution_count": 25,
     "metadata": {},
     "output_type": "execute_result"
    }
   ],
   "source": [
    "negative_corpus=[]\n",
    "for snt in df[df['Sentiment']==0]['Transformed'].tolist():\n",
    "    for word in snt.split():\n",
    "        negative_corpus.append(word)\n",
    "Counter(negative_corpus).most_common(30)"
   ]
  },
  {
   "cell_type": "markdown",
   "id": "214f7b05",
   "metadata": {},
   "source": [
    "## Feature extraction using Count Vectorizer"
   ]
  },
  {
   "cell_type": "code",
   "execution_count": 26,
   "id": "4b4a01e2",
   "metadata": {},
   "outputs": [],
   "source": [
    "from sklearn.feature_extraction.text import CountVectorizer"
   ]
  },
  {
   "cell_type": "code",
   "execution_count": 27,
   "id": "f2acc140",
   "metadata": {},
   "outputs": [],
   "source": [
    "cv=CountVectorizer(max_features=1000)"
   ]
  },
  {
   "cell_type": "code",
   "execution_count": 28,
   "id": "9b6388dc",
   "metadata": {},
   "outputs": [],
   "source": [
    "X = cv.fit_transform(df['Transformed']).toarray()"
   ]
  },
  {
   "cell_type": "code",
   "execution_count": 29,
   "id": "d73148e8",
   "metadata": {},
   "outputs": [
    {
     "data": {
      "text/plain": [
       "(1005, 1000)"
      ]
     },
     "execution_count": 29,
     "metadata": {},
     "output_type": "execute_result"
    }
   ],
   "source": [
    "X.shape"
   ]
  },
  {
   "cell_type": "code",
   "execution_count": 30,
   "id": "adefa8e9",
   "metadata": {},
   "outputs": [
    {
     "data": {
      "text/html": [
       "<div>\n",
       "<style scoped>\n",
       "    .dataframe tbody tr th:only-of-type {\n",
       "        vertical-align: middle;\n",
       "    }\n",
       "\n",
       "    .dataframe tbody tr th {\n",
       "        vertical-align: top;\n",
       "    }\n",
       "\n",
       "    .dataframe thead th {\n",
       "        text-align: right;\n",
       "    }\n",
       "</style>\n",
       "<table border=\"1\" class=\"dataframe\">\n",
       "  <thead>\n",
       "    <tr style=\"text-align: right;\">\n",
       "      <th></th>\n",
       "      <th>10</th>\n",
       "      <th>17</th>\n",
       "      <th>2020</th>\n",
       "      <th>50</th>\n",
       "      <th>aaji</th>\n",
       "      <th>aao</th>\n",
       "      <th>aap</th>\n",
       "      <th>abai</th>\n",
       "      <th>abl</th>\n",
       "      <th>absolut</th>\n",
       "      <th>...</th>\n",
       "      <th>ya</th>\n",
       "      <th>ye</th>\n",
       "      <th>year</th>\n",
       "      <th>yesterday</th>\n",
       "      <th>yet</th>\n",
       "      <th>yoke</th>\n",
       "      <th>young</th>\n",
       "      <th>youth</th>\n",
       "      <th>zindabad</th>\n",
       "      <th>zubin</th>\n",
       "    </tr>\n",
       "  </thead>\n",
       "  <tbody>\n",
       "    <tr>\n",
       "      <th>0</th>\n",
       "      <td>0</td>\n",
       "      <td>0</td>\n",
       "      <td>0</td>\n",
       "      <td>0</td>\n",
       "      <td>0</td>\n",
       "      <td>0</td>\n",
       "      <td>0</td>\n",
       "      <td>0</td>\n",
       "      <td>0</td>\n",
       "      <td>0</td>\n",
       "      <td>...</td>\n",
       "      <td>0</td>\n",
       "      <td>0</td>\n",
       "      <td>0</td>\n",
       "      <td>0</td>\n",
       "      <td>0</td>\n",
       "      <td>0</td>\n",
       "      <td>0</td>\n",
       "      <td>0</td>\n",
       "      <td>0</td>\n",
       "      <td>0</td>\n",
       "    </tr>\n",
       "    <tr>\n",
       "      <th>1</th>\n",
       "      <td>0</td>\n",
       "      <td>0</td>\n",
       "      <td>0</td>\n",
       "      <td>0</td>\n",
       "      <td>0</td>\n",
       "      <td>0</td>\n",
       "      <td>0</td>\n",
       "      <td>0</td>\n",
       "      <td>0</td>\n",
       "      <td>0</td>\n",
       "      <td>...</td>\n",
       "      <td>0</td>\n",
       "      <td>0</td>\n",
       "      <td>0</td>\n",
       "      <td>0</td>\n",
       "      <td>0</td>\n",
       "      <td>0</td>\n",
       "      <td>0</td>\n",
       "      <td>0</td>\n",
       "      <td>0</td>\n",
       "      <td>0</td>\n",
       "    </tr>\n",
       "    <tr>\n",
       "      <th>2</th>\n",
       "      <td>0</td>\n",
       "      <td>0</td>\n",
       "      <td>0</td>\n",
       "      <td>0</td>\n",
       "      <td>0</td>\n",
       "      <td>0</td>\n",
       "      <td>0</td>\n",
       "      <td>0</td>\n",
       "      <td>0</td>\n",
       "      <td>0</td>\n",
       "      <td>...</td>\n",
       "      <td>0</td>\n",
       "      <td>0</td>\n",
       "      <td>0</td>\n",
       "      <td>0</td>\n",
       "      <td>0</td>\n",
       "      <td>0</td>\n",
       "      <td>0</td>\n",
       "      <td>0</td>\n",
       "      <td>0</td>\n",
       "      <td>0</td>\n",
       "    </tr>\n",
       "    <tr>\n",
       "      <th>3</th>\n",
       "      <td>0</td>\n",
       "      <td>0</td>\n",
       "      <td>0</td>\n",
       "      <td>0</td>\n",
       "      <td>0</td>\n",
       "      <td>0</td>\n",
       "      <td>0</td>\n",
       "      <td>0</td>\n",
       "      <td>0</td>\n",
       "      <td>0</td>\n",
       "      <td>...</td>\n",
       "      <td>0</td>\n",
       "      <td>0</td>\n",
       "      <td>0</td>\n",
       "      <td>0</td>\n",
       "      <td>0</td>\n",
       "      <td>0</td>\n",
       "      <td>0</td>\n",
       "      <td>0</td>\n",
       "      <td>0</td>\n",
       "      <td>0</td>\n",
       "    </tr>\n",
       "    <tr>\n",
       "      <th>4</th>\n",
       "      <td>0</td>\n",
       "      <td>0</td>\n",
       "      <td>0</td>\n",
       "      <td>0</td>\n",
       "      <td>0</td>\n",
       "      <td>0</td>\n",
       "      <td>0</td>\n",
       "      <td>0</td>\n",
       "      <td>0</td>\n",
       "      <td>0</td>\n",
       "      <td>...</td>\n",
       "      <td>0</td>\n",
       "      <td>0</td>\n",
       "      <td>0</td>\n",
       "      <td>0</td>\n",
       "      <td>0</td>\n",
       "      <td>0</td>\n",
       "      <td>0</td>\n",
       "      <td>0</td>\n",
       "      <td>0</td>\n",
       "      <td>0</td>\n",
       "    </tr>\n",
       "    <tr>\n",
       "      <th>5</th>\n",
       "      <td>0</td>\n",
       "      <td>0</td>\n",
       "      <td>0</td>\n",
       "      <td>0</td>\n",
       "      <td>0</td>\n",
       "      <td>0</td>\n",
       "      <td>0</td>\n",
       "      <td>0</td>\n",
       "      <td>0</td>\n",
       "      <td>0</td>\n",
       "      <td>...</td>\n",
       "      <td>0</td>\n",
       "      <td>0</td>\n",
       "      <td>0</td>\n",
       "      <td>0</td>\n",
       "      <td>0</td>\n",
       "      <td>0</td>\n",
       "      <td>0</td>\n",
       "      <td>0</td>\n",
       "      <td>0</td>\n",
       "      <td>0</td>\n",
       "    </tr>\n",
       "    <tr>\n",
       "      <th>6</th>\n",
       "      <td>0</td>\n",
       "      <td>0</td>\n",
       "      <td>0</td>\n",
       "      <td>0</td>\n",
       "      <td>0</td>\n",
       "      <td>0</td>\n",
       "      <td>0</td>\n",
       "      <td>0</td>\n",
       "      <td>0</td>\n",
       "      <td>0</td>\n",
       "      <td>...</td>\n",
       "      <td>0</td>\n",
       "      <td>0</td>\n",
       "      <td>0</td>\n",
       "      <td>0</td>\n",
       "      <td>0</td>\n",
       "      <td>0</td>\n",
       "      <td>0</td>\n",
       "      <td>0</td>\n",
       "      <td>0</td>\n",
       "      <td>0</td>\n",
       "    </tr>\n",
       "    <tr>\n",
       "      <th>7</th>\n",
       "      <td>0</td>\n",
       "      <td>0</td>\n",
       "      <td>0</td>\n",
       "      <td>0</td>\n",
       "      <td>0</td>\n",
       "      <td>0</td>\n",
       "      <td>0</td>\n",
       "      <td>0</td>\n",
       "      <td>0</td>\n",
       "      <td>0</td>\n",
       "      <td>...</td>\n",
       "      <td>0</td>\n",
       "      <td>0</td>\n",
       "      <td>0</td>\n",
       "      <td>0</td>\n",
       "      <td>0</td>\n",
       "      <td>0</td>\n",
       "      <td>0</td>\n",
       "      <td>0</td>\n",
       "      <td>0</td>\n",
       "      <td>0</td>\n",
       "    </tr>\n",
       "    <tr>\n",
       "      <th>8</th>\n",
       "      <td>0</td>\n",
       "      <td>0</td>\n",
       "      <td>0</td>\n",
       "      <td>0</td>\n",
       "      <td>0</td>\n",
       "      <td>0</td>\n",
       "      <td>0</td>\n",
       "      <td>0</td>\n",
       "      <td>0</td>\n",
       "      <td>0</td>\n",
       "      <td>...</td>\n",
       "      <td>0</td>\n",
       "      <td>0</td>\n",
       "      <td>0</td>\n",
       "      <td>0</td>\n",
       "      <td>0</td>\n",
       "      <td>0</td>\n",
       "      <td>0</td>\n",
       "      <td>0</td>\n",
       "      <td>0</td>\n",
       "      <td>0</td>\n",
       "    </tr>\n",
       "    <tr>\n",
       "      <th>9</th>\n",
       "      <td>0</td>\n",
       "      <td>0</td>\n",
       "      <td>0</td>\n",
       "      <td>0</td>\n",
       "      <td>0</td>\n",
       "      <td>0</td>\n",
       "      <td>0</td>\n",
       "      <td>0</td>\n",
       "      <td>0</td>\n",
       "      <td>0</td>\n",
       "      <td>...</td>\n",
       "      <td>0</td>\n",
       "      <td>0</td>\n",
       "      <td>0</td>\n",
       "      <td>0</td>\n",
       "      <td>0</td>\n",
       "      <td>0</td>\n",
       "      <td>0</td>\n",
       "      <td>0</td>\n",
       "      <td>0</td>\n",
       "      <td>0</td>\n",
       "    </tr>\n",
       "  </tbody>\n",
       "</table>\n",
       "<p>10 rows × 1000 columns</p>\n",
       "</div>"
      ],
      "text/plain": [
       "   10  17  2020  50  aaji  aao  aap  abai  abl  absolut  ...  ya  ye  year  \\\n",
       "0   0   0     0   0     0    0    0     0    0        0  ...   0   0     0   \n",
       "1   0   0     0   0     0    0    0     0    0        0  ...   0   0     0   \n",
       "2   0   0     0   0     0    0    0     0    0        0  ...   0   0     0   \n",
       "3   0   0     0   0     0    0    0     0    0        0  ...   0   0     0   \n",
       "4   0   0     0   0     0    0    0     0    0        0  ...   0   0     0   \n",
       "5   0   0     0   0     0    0    0     0    0        0  ...   0   0     0   \n",
       "6   0   0     0   0     0    0    0     0    0        0  ...   0   0     0   \n",
       "7   0   0     0   0     0    0    0     0    0        0  ...   0   0     0   \n",
       "8   0   0     0   0     0    0    0     0    0        0  ...   0   0     0   \n",
       "9   0   0     0   0     0    0    0     0    0        0  ...   0   0     0   \n",
       "\n",
       "   yesterday  yet  yoke  young  youth  zindabad  zubin  \n",
       "0          0    0     0      0      0         0      0  \n",
       "1          0    0     0      0      0         0      0  \n",
       "2          0    0     0      0      0         0      0  \n",
       "3          0    0     0      0      0         0      0  \n",
       "4          0    0     0      0      0         0      0  \n",
       "5          0    0     0      0      0         0      0  \n",
       "6          0    0     0      0      0         0      0  \n",
       "7          0    0     0      0      0         0      0  \n",
       "8          0    0     0      0      0         0      0  \n",
       "9          0    0     0      0      0         0      0  \n",
       "\n",
       "[10 rows x 1000 columns]"
      ]
     },
     "execution_count": 30,
     "metadata": {},
     "output_type": "execute_result"
    }
   ],
   "source": [
    "df1 = pd.DataFrame(X, columns=cv.get_feature_names())\n",
    "df1.head(10)"
   ]
  },
  {
   "cell_type": "code",
   "execution_count": 31,
   "id": "0cee7fcb",
   "metadata": {},
   "outputs": [],
   "source": [
    "Y=df['Sentiment'].values"
   ]
  },
  {
   "cell_type": "code",
   "execution_count": 32,
   "id": "c178f13b",
   "metadata": {},
   "outputs": [
    {
     "data": {
      "text/plain": [
       "(1005,)"
      ]
     },
     "execution_count": 32,
     "metadata": {},
     "output_type": "execute_result"
    }
   ],
   "source": [
    "Y.shape"
   ]
  },
  {
   "cell_type": "markdown",
   "id": "6646595c",
   "metadata": {},
   "source": [
    "## Train test split"
   ]
  },
  {
   "cell_type": "code",
   "execution_count": 33,
   "id": "4f7bc625",
   "metadata": {},
   "outputs": [],
   "source": [
    "from sklearn.model_selection import train_test_split"
   ]
  },
  {
   "cell_type": "code",
   "execution_count": 34,
   "id": "e79799c7",
   "metadata": {},
   "outputs": [],
   "source": [
    "X_train, X_test, Y_train, Y_test = train_test_split(X,Y,test_size=0.2,random_state=2)"
   ]
  },
  {
   "cell_type": "code",
   "execution_count": 35,
   "id": "f5b468be",
   "metadata": {},
   "outputs": [
    {
     "name": "stdout",
     "output_type": "stream",
     "text": [
      "(804, 1000) (201, 1000)\n",
      "(804,) (201,)\n"
     ]
    }
   ],
   "source": [
    "print(X_train.shape,X_test.shape)\n",
    "print(Y_train.shape,Y_test.shape)"
   ]
  },
  {
   "cell_type": "code",
   "execution_count": 36,
   "id": "cf3ad2e4",
   "metadata": {},
   "outputs": [],
   "source": [
    "from sklearn.metrics import accuracy_score,confusion_matrix,precision_score,f1_score,recall_score"
   ]
  },
  {
   "cell_type": "markdown",
   "id": "66e199b0",
   "metadata": {},
   "source": [
    "## Training our model with different classifying algorithms"
   ]
  },
  {
   "cell_type": "code",
   "execution_count": 37,
   "id": "31707ab4",
   "metadata": {},
   "outputs": [],
   "source": [
    "from sklearn.linear_model import LogisticRegression\n",
    "from sklearn.svm import SVC\n",
    "from sklearn.naive_bayes import MultinomialNB\n",
    "from sklearn.tree import DecisionTreeClassifier\n",
    "from sklearn.neighbors import KNeighborsClassifier\n",
    "from sklearn.ensemble import RandomForestClassifier\n",
    "from sklearn.ensemble import ExtraTreesClassifier"
   ]
  },
  {
   "cell_type": "code",
   "execution_count": 38,
   "id": "31cc0f6b",
   "metadata": {},
   "outputs": [],
   "source": [
    "svc=SVC(kernel= 'linear', gamma= 0.8, C= 0.9)\n",
    "knc=KNeighborsClassifier(n_neighbors=6, weights= \"distance\",metric= \"minkowski\")\n",
    "mnb=MultinomialNB()\n",
    "dtc=DecisionTreeClassifier(criterion=\"gini\",splitter= \"best\",max_depth=150,min_samples_split=6)\n",
    "lrc=LogisticRegression(tol= 0.001,C= 2,solver= \"saga\")\n",
    "rfc=RandomForestClassifier(n_estimators=100,criterion=\"gini\",min_samples_split= 3)\n",
    "etc=ExtraTreesClassifier(n_estimators= 1000, max_features='log2', criterion='entropy')"
   ]
  },
  {
   "cell_type": "code",
   "execution_count": 39,
   "id": "18c01e25",
   "metadata": {},
   "outputs": [],
   "source": [
    "clfs={\n",
    "    'SVC':svc,\n",
    "    'KN':knc,\n",
    "    'NB':mnb,\n",
    "    'DT':dtc,\n",
    "    'LR':lrc,\n",
    "    'RF':rfc,\n",
    "    'ETC':etc\n",
    "}"
   ]
  },
  {
   "cell_type": "code",
   "execution_count": 40,
   "id": "ed31330f",
   "metadata": {},
   "outputs": [],
   "source": [
    "\n",
    "def train_classifier(clf,X_train,Y_train,X_test,Y_test):\n",
    "    clf.fit(X_train,Y_train)\n",
    "    Y_pred=clf.predict(X_test)\n",
    "    accuracy=accuracy_score(Y_test,Y_pred)\n",
    "    precision=precision_score(Y_test,Y_pred)\n",
    "    f1score=f1_score(Y_test,Y_pred)\n",
    "    recall=recall_score(Y_test,Y_pred)\n",
    "    return accuracy,precision,f1score,recall"
   ]
  },
  {
   "cell_type": "code",
   "execution_count": 41,
   "id": "602aea93",
   "metadata": {},
   "outputs": [
    {
     "name": "stdout",
     "output_type": "stream",
     "text": [
      "For SVC\n",
      "Accuracy-  0.835820895522388\n",
      "Precision-  0.8202247191011236\n",
      "F1 Score-  0.8156424581005587\n",
      "Recall-  0.8111111111111111\n",
      "\n",
      "\n",
      "For KN\n",
      "Accuracy-  0.7512437810945274\n",
      "Precision-  0.7272727272727273\n",
      "F1 Score-  0.7191011235955056\n",
      "Recall-  0.7111111111111111\n",
      "\n",
      "\n",
      "For NB\n",
      "Accuracy-  0.8606965174129353\n",
      "Precision-  0.81\n",
      "F1 Score-  0.8526315789473685\n",
      "Recall-  0.9\n",
      "\n",
      "\n",
      "For DT\n",
      "Accuracy-  0.8109452736318408\n",
      "Precision-  0.7888888888888889\n",
      "F1 Score-  0.7888888888888889\n",
      "Recall-  0.7888888888888889\n",
      "\n",
      "\n",
      "For LR\n",
      "Accuracy-  0.8756218905472637\n",
      "Precision-  0.8571428571428571\n",
      "F1 Score-  0.861878453038674\n",
      "Recall-  0.8666666666666667\n",
      "\n",
      "\n",
      "For RF\n",
      "Accuracy-  0.8159203980099502\n",
      "Precision-  0.7849462365591398\n",
      "F1 Score-  0.7978142076502732\n",
      "Recall-  0.8111111111111111\n",
      "\n",
      "\n",
      "For ETC\n",
      "Accuracy-  0.8258706467661692\n",
      "Precision-  0.7894736842105263\n",
      "F1 Score-  0.8108108108108109\n",
      "Recall-  0.8333333333333334\n",
      "\n",
      "\n"
     ]
    }
   ],
   "source": [
    "for name,clf in clfs.items():\n",
    "    current_accuracy,current_precision,current_f1score,current_recall=train_classifier(clf,X_train,Y_train,X_test,Y_test)\n",
    "    print(\"For\",name)\n",
    "    print(\"Accuracy- \", current_accuracy)\n",
    "    print(\"Precision- \",current_precision)\n",
    "    print(\"F1 Score- \",current_f1score)\n",
    "    print(\"Recall- \",current_recall)\n",
    "    print(\"\\n\")"
   ]
  },
  {
   "cell_type": "code",
   "execution_count": 42,
   "id": "aef8c11b",
   "metadata": {},
   "outputs": [
    {
     "name": "stdout",
     "output_type": "stream",
     "text": [
      "0.8756218905472637\n",
      "[[98 13]\n",
      " [12 78]]\n"
     ]
    }
   ],
   "source": [
    "#best accuracy by Logistic Regression (88% approx)\n",
    "lrc.fit(X_train,Y_train)\n",
    "Y_pred=lrc.predict(X_test)\n",
    "print(accuracy_score(Y_test,Y_pred))\n",
    "print(confusion_matrix(Y_test,Y_pred))"
   ]
  },
  {
   "cell_type": "markdown",
   "id": "0cd3c418",
   "metadata": {},
   "source": [
    "## Confusion matrix"
   ]
  },
  {
   "cell_type": "code",
   "execution_count": 43,
   "id": "9e0cb1a6",
   "metadata": {},
   "outputs": [
    {
     "data": {
      "text/plain": [
       "<AxesSubplot:>"
      ]
     },
     "execution_count": 43,
     "metadata": {},
     "output_type": "execute_result"
    },
    {
     "data": {
      "image/png": "[encoded data removed]",
      "text/plain": [
       "<Figure size 432x288 with 2 Axes>"
      ]
     },
     "metadata": {
      "needs_background": "light"
     },
     "output_type": "display_data"
    }
   ],
   "source": [
    "sns.heatmap(confusion_matrix(Y_test,Y_pred), annot=True)"
   ]
  },
  {
   "cell_type": "markdown",
   "id": "52cdb699",
   "metadata": {},
   "source": [
    "## Exporting the model and vectorizer"
   ]
  },
  {
   "cell_type": "code",
   "execution_count": 221,
   "id": "1b7e6dda",
   "metadata": {},
   "outputs": [],
   "source": [
    "import pickle"
   ]
  },
  {
   "cell_type": "code",
   "execution_count": 222,
   "id": "e9f2e139",
   "metadata": {},
   "outputs": [],
   "source": [
    "pickle.dump(cv,open('vectorizer_mt.pkl','wb'))\n",
    "pickle.dump(lrc,open('model_mt.pkl','wb'))"
   ]
  },
  {
   "cell_type": "code",
   "execution_count": null,
   "id": "a70ff883",
   "metadata": {},
   "outputs": [],
   "source": []
  }
 ],
 "metadata": {
  "kernelspec": {
   "display_name": "Python 3",
   "language": "python",
   "name": "python3"
  },
  "language_info": {
   "codemirror_mode": {
    "name": "ipython",
    "version": 3
   },
   "file_extension": ".py",
   "mimetype": "text/x-python",
   "name": "python",
   "nbconvert_exporter": "python",
   "pygments_lexer": "ipython3",
   "version": "3.8.8"
  }
 },
 "nbformat": 4,
 "nbformat_minor": 5
}
